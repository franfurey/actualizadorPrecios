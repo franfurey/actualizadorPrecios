{
 "cells": [
  {
   "cell_type": "code",
   "execution_count": 12,
   "metadata": {},
   "outputs": [],
   "source": [
    "import data_saving\n",
    "import importlib\n",
    "import funciones\n",
    "import concat\n",
    "importlib.reload(funciones)\n",
    "importlib.reload(concat)\n",
    "importlib.reload(data_saving)\n",
    "from concat import concat\n",
    "from funciones import clean_algabo, clean_furey, clean_canal, scrape_drimel, clean_upalala, clean_teddy\n",
    "\n",
    "def clean_file(canal,filename, company):\n",
    "    if company == \"Algabo\":\n",
    "        clean_algabo(filename)\n",
    "        clean_canal(canal,'algabo',mpn_value=company)\n",
    "        concat('algabo')\n",
    "    elif company == \"Furey\":\n",
    "        clean_furey(filename)\n",
    "        clean_canal(canal,'furey',mpn_value=company)\n",
    "        concat('furey')\n",
    "    elif company == 'Drimel':\n",
    "        scrape_drimel(filename)\n",
    "        clean_canal(canal,'drimel',mpn_value=company)\n",
    "        concat('drimel')\n",
    "    elif company == 'Upalala':\n",
    "        clean_upalala(filename)\n",
    "        clean_canal(canal,'upalala',mpn_value= company)\n",
    "        concat('upalala')\n",
    "    elif company == 'Teddy':\n",
    "        clean_teddy(filename)\n",
    "        clean_canal(canal, 'teddy', mpn_value = company)\n",
    "        concat('teddy')\n",
    "    else:\n",
    "        raise ValueError(\"Company not recognized\")\n"
   ]
  },
  {
   "cell_type": "code",
   "execution_count": 9,
   "metadata": {},
   "outputs": [
    {
     "name": "stdout",
     "output_type": "stream",
     "text": [
      "Archivo limpio guardado como ./procesados/algabo.xlsx\n",
      "Archivo limpio guardado como ./procesados/procesadosCanal/algabo.xlsx\n",
      "\n",
      "En general, los productos aumentaron en un nan%.\n",
      "De los 310 productos, 0 sufrieron un aumento.\n",
      "\n",
      "Total de filas en df_result: 310\n",
      "Filas con similaridad del 100%: 284\n",
      "Filas de CANAL no encontradas en df2: 15\n",
      "Filas de df2 no encontradas en CANAL: 11\n",
      "\n",
      "Archivo CONCATENADO guardado como proveedor/algabo/listos/algabo.xlsx\n",
      "\n",
      "No se encontraron aumentos excesivos en los productos.\n",
      "El archivo CSV se ha guardado en: /Users/franciscofurey/00DataScience/Canal/actualizadorPrecios/proveedor/algabo/listos/tiendaNube/algabo.csv\n"
     ]
    }
   ],
   "source": [
    "# ALGABO\n",
    "clean_file('./sinProcesar/canal.csv',\n",
    "           './sinProcesar/algabo.xlsx',\n",
    "           'Algabo')"
   ]
  },
  {
   "cell_type": "code",
   "execution_count": 14,
   "metadata": {},
   "outputs": [
    {
     "name": "stdout",
     "output_type": "stream",
     "text": [
      "Archivo guardado con exito\n",
      "Archivo limpio guardado como ./procesados/procesadosCanal/drimel.xlsx\n",
      "\n",
      "En general, los productos aumentaron en un 8.00%.\n",
      "De los 216 productos, 1 sufrieron un aumento.\n",
      "\n",
      "Total de filas en df_result: 216\n",
      "Filas con similaridad del 100%: 143\n",
      "Filas de CANAL no encontradas en df2: 54\n",
      "Filas de df2 no encontradas en CANAL: 19\n",
      "\n",
      "Archivo CONCATENADO guardado como proveedor/drimel/listos/drimel.xlsx\n",
      "\n",
      "No se encontraron aumentos excesivos en los productos.\n",
      "El archivo CSV se ha guardado en: /Users/franciscofurey/00DataScience/Canal/actualizadorPrecios/proveedor/drimel/listos/tiendaNube/drimel.csv\n"
     ]
    }
   ],
   "source": [
    "# DRIMEL\n",
    "clean_file('./sinProcesar/canal.csv',\n",
    "           ['https://drimel.com.ar/?product_cat=bebes', 'https://drimel.com.ar/?product_cat=cuidado-del-bebe'],\n",
    "            'Drimel')"
   ]
  },
  {
   "cell_type": "code",
   "execution_count": 13,
   "metadata": {},
   "outputs": [
    {
     "name": "stdout",
     "output_type": "stream",
     "text": [
      "Archivo limpio guardado como ./procesados/furey.xlsx\n",
      "Archivo limpio guardado como ./procesados/procesadosCanal/furey.xlsx\n"
     ]
    },
    {
     "ename": "KeyboardInterrupt",
     "evalue": "",
     "output_type": "error",
     "traceback": [
      "\u001b[0;31m---------------------------------------------------------------------------\u001b[0m",
      "\u001b[0;31mKeyboardInterrupt\u001b[0m                         Traceback (most recent call last)",
      "\u001b[0;32m/var/folders/xs/759nsb412kq1j2kcfl4f0p_80000gn/T/ipykernel_2590/1513978095.py\u001b[0m in \u001b[0;36m<module>\u001b[0;34m\u001b[0m\n\u001b[1;32m      1\u001b[0m \u001b[0;31m# FUREY\u001b[0m\u001b[0;34m\u001b[0m\u001b[0;34m\u001b[0m\u001b[0m\n\u001b[0;32m----> 2\u001b[0;31m clean_file('./sinProcesar/canal.csv',\n\u001b[0m\u001b[1;32m      3\u001b[0m            \u001b[0;34m'./sinProcesar/furey.xlsx'\u001b[0m\u001b[0;34m,\u001b[0m\u001b[0;34m\u001b[0m\u001b[0;34m\u001b[0m\u001b[0m\n\u001b[1;32m      4\u001b[0m            'Furey')\n",
      "\u001b[0;32m/var/folders/xs/759nsb412kq1j2kcfl4f0p_80000gn/T/ipykernel_2590/609102346.py\u001b[0m in \u001b[0;36mclean_file\u001b[0;34m(canal, filename, company)\u001b[0m\n\u001b[1;32m     17\u001b[0m         \u001b[0mclean_furey\u001b[0m\u001b[0;34m(\u001b[0m\u001b[0mfilename\u001b[0m\u001b[0;34m)\u001b[0m\u001b[0;34m\u001b[0m\u001b[0;34m\u001b[0m\u001b[0m\n\u001b[1;32m     18\u001b[0m         \u001b[0mclean_canal\u001b[0m\u001b[0;34m(\u001b[0m\u001b[0mcanal\u001b[0m\u001b[0;34m,\u001b[0m\u001b[0;34m'furey'\u001b[0m\u001b[0;34m,\u001b[0m\u001b[0mmpn_value\u001b[0m\u001b[0;34m=\u001b[0m\u001b[0mcompany\u001b[0m\u001b[0;34m)\u001b[0m\u001b[0;34m\u001b[0m\u001b[0;34m\u001b[0m\u001b[0m\n\u001b[0;32m---> 19\u001b[0;31m         \u001b[0mconcat\u001b[0m\u001b[0;34m(\u001b[0m\u001b[0;34m'furey'\u001b[0m\u001b[0;34m)\u001b[0m\u001b[0;34m\u001b[0m\u001b[0;34m\u001b[0m\u001b[0m\n\u001b[0m\u001b[1;32m     20\u001b[0m     \u001b[0;32melif\u001b[0m \u001b[0mcompany\u001b[0m \u001b[0;34m==\u001b[0m \u001b[0;34m'Drimel'\u001b[0m\u001b[0;34m:\u001b[0m\u001b[0;34m\u001b[0m\u001b[0;34m\u001b[0m\u001b[0m\n\u001b[1;32m     21\u001b[0m         \u001b[0mscrape_drimel\u001b[0m\u001b[0;34m(\u001b[0m\u001b[0mfilename\u001b[0m\u001b[0;34m)\u001b[0m\u001b[0;34m\u001b[0m\u001b[0;34m\u001b[0m\u001b[0m\n",
      "\u001b[0;32m~/00DataScience/Canal/actualizadorPrecios/concat.py\u001b[0m in \u001b[0;36mconcat\u001b[0;34m(proveedor)\u001b[0m\n\u001b[1;32m     21\u001b[0m \u001b[0;34m\u001b[0m\u001b[0m\n\u001b[1;32m     22\u001b[0m     \u001b[0mdf1\u001b[0m\u001b[0;34m,\u001b[0m \u001b[0mdf2\u001b[0m \u001b[0;34m=\u001b[0m \u001b[0mload_and_prepare_dataframes\u001b[0m\u001b[0;34m(\u001b[0m\u001b[0marchivo1\u001b[0m\u001b[0;34m,\u001b[0m \u001b[0marchivo2\u001b[0m\u001b[0;34m)\u001b[0m\u001b[0;34m\u001b[0m\u001b[0;34m\u001b[0m\u001b[0m\n\u001b[0;32m---> 23\u001b[0;31m     \u001b[0mdf_result\u001b[0m \u001b[0;34m=\u001b[0m \u001b[0mcalculate_similarity\u001b[0m\u001b[0;34m(\u001b[0m\u001b[0mdf1\u001b[0m\u001b[0;34m,\u001b[0m \u001b[0mdf2\u001b[0m\u001b[0;34m)\u001b[0m\u001b[0;34m\u001b[0m\u001b[0;34m\u001b[0m\u001b[0m\n\u001b[0m\u001b[1;32m     24\u001b[0m     \u001b[0mdf_result\u001b[0m \u001b[0;34m=\u001b[0m \u001b[0madd_non_matching_rows\u001b[0m\u001b[0;34m(\u001b[0m\u001b[0mdf_result\u001b[0m\u001b[0;34m,\u001b[0m \u001b[0mdf2\u001b[0m\u001b[0;34m)\u001b[0m\u001b[0;34m\u001b[0m\u001b[0;34m\u001b[0m\u001b[0m\n\u001b[1;32m     25\u001b[0m     \u001b[0mdf_result\u001b[0m \u001b[0;34m=\u001b[0m \u001b[0mprepare_result\u001b[0m\u001b[0;34m(\u001b[0m\u001b[0mdf_result\u001b[0m\u001b[0;34m)\u001b[0m\u001b[0;34m\u001b[0m\u001b[0;34m\u001b[0m\u001b[0m\n",
      "\u001b[0;32m~/00DataScience/Canal/actualizadorPrecios/data_processing.py\u001b[0m in \u001b[0;36mcalculate_similarity\u001b[0;34m(df1, df2)\u001b[0m\n\u001b[1;32m      9\u001b[0m                                       'df2_Código de barras', 'df2_Costo', 'similarity', 'Marca'])\n\u001b[1;32m     10\u001b[0m     \u001b[0;32mfor\u001b[0m \u001b[0mi\u001b[0m\u001b[0;34m,\u001b[0m \u001b[0mrow1\u001b[0m \u001b[0;32min\u001b[0m \u001b[0mdf1\u001b[0m\u001b[0;34m.\u001b[0m\u001b[0miterrows\u001b[0m\u001b[0;34m(\u001b[0m\u001b[0;34m)\u001b[0m\u001b[0;34m:\u001b[0m\u001b[0;34m\u001b[0m\u001b[0;34m\u001b[0m\u001b[0m\n\u001b[0;32m---> 11\u001b[0;31m         \u001b[0;32mfor\u001b[0m \u001b[0mj\u001b[0m\u001b[0;34m,\u001b[0m \u001b[0mrow2\u001b[0m \u001b[0;32min\u001b[0m \u001b[0mdf2\u001b[0m\u001b[0;34m.\u001b[0m\u001b[0miterrows\u001b[0m\u001b[0;34m(\u001b[0m\u001b[0;34m)\u001b[0m\u001b[0;34m:\u001b[0m\u001b[0;34m\u001b[0m\u001b[0;34m\u001b[0m\u001b[0m\n\u001b[0m\u001b[1;32m     12\u001b[0m             \u001b[0msimilarity\u001b[0m \u001b[0;34m=\u001b[0m \u001b[0mfuzz\u001b[0m\u001b[0;34m.\u001b[0m\u001b[0mtoken_set_ratio\u001b[0m\u001b[0;34m(\u001b[0m\u001b[0mrow1\u001b[0m\u001b[0;34m[\u001b[0m\u001b[0;34m'Código de barras'\u001b[0m\u001b[0;34m]\u001b[0m\u001b[0;34m,\u001b[0m \u001b[0mrow2\u001b[0m\u001b[0;34m[\u001b[0m\u001b[0;34m'Código de barras'\u001b[0m\u001b[0;34m]\u001b[0m\u001b[0;34m)\u001b[0m\u001b[0;34m\u001b[0m\u001b[0;34m\u001b[0m\u001b[0m\n\u001b[1;32m     13\u001b[0m             \u001b[0;32mif\u001b[0m \u001b[0msimilarity\u001b[0m \u001b[0;34m>=\u001b[0m \u001b[0;36m99\u001b[0m\u001b[0;34m:\u001b[0m\u001b[0;34m\u001b[0m\u001b[0;34m\u001b[0m\u001b[0m\n",
      "\u001b[0;32m~/opt/anaconda3/lib/python3.9/site-packages/pandas/core/frame.py\u001b[0m in \u001b[0;36miterrows\u001b[0;34m(self)\u001b[0m\n\u001b[1;32m   1322\u001b[0m         \u001b[0mklass\u001b[0m \u001b[0;34m=\u001b[0m \u001b[0mself\u001b[0m\u001b[0;34m.\u001b[0m\u001b[0m_constructor_sliced\u001b[0m\u001b[0;34m\u001b[0m\u001b[0;34m\u001b[0m\u001b[0m\n\u001b[1;32m   1323\u001b[0m         \u001b[0;32mfor\u001b[0m \u001b[0mk\u001b[0m\u001b[0;34m,\u001b[0m \u001b[0mv\u001b[0m \u001b[0;32min\u001b[0m \u001b[0mzip\u001b[0m\u001b[0;34m(\u001b[0m\u001b[0mself\u001b[0m\u001b[0;34m.\u001b[0m\u001b[0mindex\u001b[0m\u001b[0;34m,\u001b[0m \u001b[0mself\u001b[0m\u001b[0;34m.\u001b[0m\u001b[0mvalues\u001b[0m\u001b[0;34m)\u001b[0m\u001b[0;34m:\u001b[0m\u001b[0;34m\u001b[0m\u001b[0;34m\u001b[0m\u001b[0m\n\u001b[0;32m-> 1324\u001b[0;31m             \u001b[0ms\u001b[0m \u001b[0;34m=\u001b[0m \u001b[0mklass\u001b[0m\u001b[0;34m(\u001b[0m\u001b[0mv\u001b[0m\u001b[0;34m,\u001b[0m \u001b[0mindex\u001b[0m\u001b[0;34m=\u001b[0m\u001b[0mcolumns\u001b[0m\u001b[0;34m,\u001b[0m \u001b[0mname\u001b[0m\u001b[0;34m=\u001b[0m\u001b[0mk\u001b[0m\u001b[0;34m)\u001b[0m\u001b[0;34m\u001b[0m\u001b[0;34m\u001b[0m\u001b[0m\n\u001b[0m\u001b[1;32m   1325\u001b[0m             \u001b[0;32myield\u001b[0m \u001b[0mk\u001b[0m\u001b[0;34m,\u001b[0m \u001b[0ms\u001b[0m\u001b[0;34m\u001b[0m\u001b[0;34m\u001b[0m\u001b[0m\n\u001b[1;32m   1326\u001b[0m \u001b[0;34m\u001b[0m\u001b[0m\n",
      "\u001b[0;32m~/opt/anaconda3/lib/python3.9/site-packages/pandas/core/series.py\u001b[0m in \u001b[0;36m__init__\u001b[0;34m(self, data, index, dtype, name, copy, fastpath)\u001b[0m\n\u001b[1;32m    321\u001b[0m     \u001b[0;31m# Constructors\u001b[0m\u001b[0;34m\u001b[0m\u001b[0;34m\u001b[0m\u001b[0m\n\u001b[1;32m    322\u001b[0m \u001b[0;34m\u001b[0m\u001b[0m\n\u001b[0;32m--> 323\u001b[0;31m     def __init__(\n\u001b[0m\u001b[1;32m    324\u001b[0m         \u001b[0mself\u001b[0m\u001b[0;34m,\u001b[0m\u001b[0;34m\u001b[0m\u001b[0;34m\u001b[0m\u001b[0m\n\u001b[1;32m    325\u001b[0m         \u001b[0mdata\u001b[0m\u001b[0;34m=\u001b[0m\u001b[0;32mNone\u001b[0m\u001b[0;34m,\u001b[0m\u001b[0;34m\u001b[0m\u001b[0;34m\u001b[0m\u001b[0m\n",
      "\u001b[0;31mKeyboardInterrupt\u001b[0m: "
     ]
    }
   ],
   "source": [
    "# FUREY\n",
    "clean_file('./sinProcesar/canal.csv',\n",
    "           './sinProcesar/furey.xlsx',\n",
    "           'Furey')"
   ]
  },
  {
   "cell_type": "code",
   "execution_count": 10,
   "metadata": {},
   "outputs": [
    {
     "name": "stdout",
     "output_type": "stream",
     "text": [
      "Archivo limpio guardado como ./procesados/upalala.xlsx\n",
      "Archivo limpio guardado como ./procesados/procesadosCanal/upalala.xlsx\n",
      "\n",
      "En general, los productos aumentaron en un nan%.\n",
      "De los 53 productos, 0 sufrieron un aumento.\n",
      "\n",
      "Total de filas en df_result: 53\n",
      "Filas con similaridad del 100%: 29\n",
      "Filas de CANAL no encontradas en df2: 23\n",
      "Filas de df2 no encontradas en CANAL: 1\n",
      "\n",
      "Archivo CONCATENADO guardado como proveedor/upalala/listos/upalala.xlsx\n",
      "\n",
      "No se encontraron aumentos excesivos en los productos.\n",
      "El archivo CSV se ha guardado en: /Users/franciscofurey/00DataScience/Canal/actualizadorPrecios/proveedor/upalala/listos/tiendaNube/upalala.csv\n"
     ]
    }
   ],
   "source": [
    "# UPALALA\n",
    "clean_file('./sinProcesar/canal.csv',\n",
    "           './sinProcesar/upalala.xlsx',\n",
    "           'Upalala')"
   ]
  },
  {
   "cell_type": "code",
   "execution_count": 13,
   "metadata": {},
   "outputs": [
    {
     "name": "stdout",
     "output_type": "stream",
     "text": [
      "Archivo limpio guardado como ./procesados/teddy.xlsx\n",
      "Imágenes eliminadas del archivo ./procesados/teddy.xlsx\n",
      "Archivo limpio guardado como ./procesados/procesadosCanal/teddy.xlsx\n",
      "\n",
      "En general, los productos aumentaron en un 17.22%.\n",
      "De los 101 productos, 83 sufrieron un aumento.\n",
      "\n",
      "Total de filas en df_result: 101\n",
      "Filas con similaridad del 100%: 95\n",
      "Filas de CANAL no encontradas en df2: 0\n",
      "Filas de df2 no encontradas en CANAL: 6\n",
      "\n",
      "Archivo CONCATENADO guardado como proveedor/teddy/listos/teddy.xlsx\n",
      "\n",
      "Se encontraron 82 productos con un aumento excesivo:\n",
      "  - Sonajero platitos (SKU: Teddy259) aumentó un 24.00%.\n",
      "  - CAJITA SONAJERO COCHECITO FANTASÍA (SKU: Teddy5053) aumentó un 24.00%.\n",
      "  - Mordillo refrigerante color (SKU: Teddy274) aumentó un 23.00%.\n",
      "  - Mordillo refrigerante (SKU: Teddy273) aumentó un 22.00%.\n",
      "  - Mordillo refrigerante hipo equilibrista (SKU: Teddy263) aumentó un 22.00%.\n",
      "  - Mordillo refrigerante Pato Dormilon (SKU: Teddy262) aumentó un 22.00%.\n",
      "  - Taza con asa y tapa (SKU: Teddy408) aumentó un 21.00%.\n",
      "  - Mordillo refrigerante medalla fantasia (SKU: Teddy267) aumentó un 21.00%.\n",
      "  - Sonajero pato dormilon (SKU: Teddy1265) aumentó un 21.00%.\n",
      "  - Sonajero hipo equilibrista (SKU: Teddy1264) aumentó un 21.00%.\n",
      "  - Vaso bebe decorado (SKU: Teddy407) aumentó un 20.00%.\n",
      "  - VASO BEBE CRISTAL (SKU: Teddy405) aumentó un 20.00%.\n",
      "  - Chupete bicolor con tetina latex (SKU: Teddy277) aumentó un 20.00%.\n",
      "  - ASPIRADOR NASAL ERGONÓMETRO C/ 2 PICOS (SKU: Teddy8103) aumentó un 20.00%.\n",
      "  - Sonajero Bolita (SKU: Teddy264) aumentó un 20.00%.\n",
      "  - Combo plato + vaso + cuchara avioncito (SKU: Teddy901) aumentó un 20.00%.\n",
      "  - Taza 2 en 1 (SKU: Teddy272) aumentó un 20.00%.\n",
      "  - Sonajero bolita fluo (SKU: Teddy266) aumentó un 20.00%.\n",
      "  - Chupete decorado con tetina de latex (SKU: Teddy276) aumentó un 19.00%.\n",
      "  - Vaso sorbito (SKU: Teddy269) aumentó un 19.00%.\n",
      "  - Tetina boca ancha de silicona (2 unidades) (SKU: Teddy2063) aumentó un 19.00%.\n",
      "  - Taza 3 en 1 (SKU: Teddy268) aumentó un 19.00%.\n",
      "  - Juego de cubiertos (SKU: Teddy505) aumentó un 19.00%.\n",
      "  - Cuchara avioncito (SKU: Teddy506) aumentó un 19.00%.\n",
      "  - Teddy - Biberón Boca Ancha - 250 ml (SKU: Teddy151) aumentó un 19.00%.\n",
      "  - Teddy - Biberón Acinturado con Tetina - 250 ml - Silicona (SKU: Teddy149) aumentó un 19.00%.\n",
      "  - SONAJERO COLGANTE PARA CUNA/COCHECITO (SKU: Teddy5056) aumentó un 18.00%.\n",
      "  - Combo plato + cuchara avioncito + taza (SKU: Teddy905) aumentó un 18.00%.\n",
      "  - PLATO+VASITO+ CUBIERTOS (SKU: Teddy425) aumentó un 18.00%.\n",
      "  - Teddy - Biberón Tradicional con Tetina - 250 ml - Silicona (SKU: Teddy115) aumentó un 18.00%.\n",
      "  - Porta chupete osito (SKU: Teddy2081) aumentó un 18.00%.\n",
      "  - Porta chupete corazon (SKU: Teddy208) aumentó un 18.00%.\n",
      "  - Chupete cristal con tetina de latex (SKU: Teddy282) aumentó un 18.00%.\n",
      "  - ASPIRADOR NASAL ERGONÓMETRO (SKU: Teddy8102) aumentó un 18.00%.\n",
      "  - Chupete bicolor con tetina de silicona (SKU: Teddy279) aumentó un 18.00%.\n",
      "  - Combo plato + cubiertos + sonajero (SKU: Teddy908) aumentó un 18.00%.\n",
      "  - VASO ANTIDERRAME c/agarradera (SKU: Teddy4082) aumentó un 18.00%.\n",
      "  - Teddy - Portamamadera (SKU: Teddy306) aumentó un 18.00%.\n",
      "  - Combo plato + cuchara avioncito + esponja (SKU: Teddy907) aumentó un 18.00%.\n",
      "  - Teddy - Biberón Acinturado con Tetina - 140 ml - Silicona (SKU: Teddy148) aumentó un 18.00%.\n",
      "  - Teddy - Biberón Acinturado con Tetina - 140 ml - Latex (SKU: Teddy198) aumentó un 18.00%.\n",
      "  - Teddy - Biberón Tradicional con Tetina - 140 ml - Latex (SKU: Teddy1161) aumentó un 18.00%.\n",
      "  - Combo plato + cubiertos + taza (SKU: Teddy906) aumentó un 17.00%.\n",
      "  - Sonajero medalla fantasia (SKU: Teddy265) aumentó un 17.00%.\n",
      "  - Combo plato + vasito (SKU: Teddy271) aumentó un 17.00%.\n",
      "  - Teddy - Biberón Acinturado con Tetina - 250 ml - Latex (SKU: Teddy199) aumentó un 17.00%.\n",
      "  - CAJITA DE REGALO - LATEX S/BPA (SKU: Teddy1976) aumentó un 17.00%.\n",
      "  - CAJITA DE REGALO C/VASO BB S/BPA (SKU: Teddy1974) aumentó un 17.00%.\n",
      "  - Cadena porta chupete (SKU: Teddy207) aumentó un 17.00%.\n",
      "  - Teddy - Biberón Tradicional con Tetina - 140 ml - Silicona (SKU: Teddy1162) aumentó un 17.00%.\n",
      "  - Biberon tradicional con tetina de latex 250 ml (SKU: Teddy12) aumentó un 17.00%.\n",
      "  - Cubre cochecito (SKU: Teddy405) aumentó un 17.00%.\n",
      "  - Protector de mosquitos (SKU: Teddy406) aumentó un 17.00%.\n",
      "  - SONAJERO CUNERO/COCHECITO BOLITAS (SKU: Teddy505) aumentó un 17.00%.\n",
      "  - Chupete recien nacido con tetina de silicona (2 unidades) (SKU: Teddy278) aumentó un 16.00%.\n",
      "  - CAJITA DE REGALO - SILICONA S/BPA (SKU: Teddy1975) aumentó un 16.00%.\n",
      "  - SONAJERO CUNERO/COCHECITO BOLITAS FLUO (SKU: Teddy5051) aumentó un 16.00%.\n",
      "  - CHUP. TOTAL DE SILICONA ANATÓMICO (SKU: Teddy287) aumentó un 16.00%.\n",
      "  - Chupete 100% silicona redondo (SKU: Teddy286) aumentó un 16.00%.\n",
      "  - ESTUCHE REGALO - BAÑO DEL BEBE (SKU: Teddy246) aumentó un 16.00%.\n",
      "  - ESTUCHE REGALO - RECIÉN NACIDO S/BPA (SKU: Teddy1243) aumentó un 16.00%.\n",
      "  - ESTUCHE REGALO C/PLATO TÉRMICO 3 DIV. (SKU: Teddy244) aumentó un 15.00%.\n",
      "  - Chupete cristal con tetina de silicona (SKU: Teddy283) aumentó un 15.00%.\n",
      "  - BABERO TOWEL GRANDE (SKU: Teddy6251) aumentó un 15.00%.\n",
      "  - CAJITA DE REGALO - ESTIMULACION BEBE (SKU: Teddy98) aumentó un 15.00%.\n",
      "  - TOALLÓN C/CAPUCHA (SKU: Teddy6254) aumentó un 15.00%.\n",
      "  - TETINA LÁTEX X 2 c/flujos (SKU: Teddy228) aumentó un 15.00%.\n",
      "  - Tetina tradicional de latex (SKU: Teddy229) aumentó un 15.00%.\n",
      "  - Chupete decorado con tetina de silicona (SKU: Teddy281) aumentó un 14.00%.\n",
      "  - CEPILLOS LIMPIAMAMADERA CON MANGO (SKU: Teddy261) aumentó un 14.00%.\n",
      "  - PLATO TÉRMICO 3 DIVISIONES (SKU: Teddy415) aumentó un 14.00%.\n",
      "  - Chupete recien nacido con tetina latex (2 unidades) (SKU: Teddy28) aumentó un 14.00%.\n",
      "  - Tetina de latex (1 unidad) (SKU: Teddy2061) aumentó un 13.00%.\n",
      "  - Tetina tradicional de silicona (2 unidades) (SKU: Teddy206) aumentó un 13.00%.\n",
      "  - BABITAS X 2 UNIDADES (SKU: Teddy6253) aumentó un 13.00%.\n",
      "  - Ajuar Grande (SKU: Teddy912) aumentó un 12.00%.\n",
      "  - Ajuar Chico (SKU: Teddy91) aumentó un 12.00%.\n",
      "  - ESTUCHE REGALO C/PLATO TÉRMICO SIN DIV. (SKU: Teddy245) aumentó un 12.00%.\n",
      "  - Cambiador plastico (SKU: Teddy403) aumentó un 12.00%.\n",
      "  - BABERO TOWEL CHICO (SKU: Teddy625) aumentó un 12.00%.\n",
      "  - PLATO TÉRMICO SIN DIVISIONES (SKU: Teddy4151) aumentó un 12.00%.\n",
      "  - BANDANA X 1 UNIDAD (SKU: Teddy6252) aumentó un 11.00%.\n",
      "El archivo CSV se ha guardado en: /Users/franciscofurey/00DataScience/Canal/actualizadorPrecios/proveedor/teddy/listos/tiendaNube/teddy.csv\n"
     ]
    }
   ],
   "source": [
    "# TEDDY\n",
    "clean_file('./sinProcesar/canal.csv',\n",
    "           './sinProcesar/teddy.xlsx',\n",
    "           'Teddy')"
   ]
  },
  {
   "cell_type": "code",
   "execution_count": null,
   "metadata": {},
   "outputs": [],
   "source": []
  }
 ],
 "metadata": {
  "kernelspec": {
   "display_name": "base",
   "language": "python",
   "name": "python3"
  },
  "language_info": {
   "codemirror_mode": {
    "name": "ipython",
    "version": 3
   },
   "file_extension": ".py",
   "mimetype": "text/x-python",
   "name": "python",
   "nbconvert_exporter": "python",
   "pygments_lexer": "ipython3",
   "version": "3.9.13"
  },
  "orig_nbformat": 4
 },
 "nbformat": 4,
 "nbformat_minor": 2
}
