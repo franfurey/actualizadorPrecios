{
 "cells": [
  {
   "cell_type": "code",
   "execution_count": 10,
   "metadata": {},
   "outputs": [],
   "source": [
    "from funciones import clean_algabo, clean_furey, concat, clean_canal\n",
    "\n",
    "\n",
    "def clean_file(canal,filename, company):\n",
    "    if company == \"Algabo\":\n",
    "        clean_algabo(filename)\n",
    "        clean_canal(canal,'canal',mpn_value=company)\n",
    "        concat('./procesadosCanal/canalAlgabo.xlsx','./procesados/algabo.xlsx','./listos/algaboCanal.xlsx')\n",
    "    elif company == \"Furey\":\n",
    "        clean_furey(filename)\n",
    "        clean_canal(canal,'canal',mpn_value=company)\n",
    "        concat('./procesadosCanal/canalFurey.xlsx','./procesados/furey.xlsx','./listos/fureyCanal.xlsx')\n",
    "    else:\n",
    "        raise ValueError(\"Company not recognized\")\n"
   ]
  },
  {
   "cell_type": "code",
   "execution_count": 8,
   "metadata": {},
   "outputs": [
    {
     "name": "stderr",
     "output_type": "stream",
     "text": [
      "/Users/franciscofurey/00DataScience/Canal/funciones.py:133: FutureWarning: The default value of regex will change from True to False in a future version. In addition, single character regular expressions will *not* be treated as literal strings when regex=True.\n",
      "  \n",
      "/Users/franciscofurey/00DataScience/Canal/funciones.py:18: FutureWarning: The default value of regex will change from True to False in a future version.\n",
      "  df['Precio'] = df['Precio'].str.replace('\\..*', '').str.replace(',', '')\n"
     ]
    },
    {
     "name": "stdout",
     "output_type": "stream",
     "text": [
      "Archivo limpio guardado como ./sinProcesar/../procesados/algabo.xlsx\n",
      "Imágenes eliminadas del archivo ./sinProcesar/../procesados/algabo.xlsx\n",
      "Archivo limpio guardado como ./sinProcesar/procesadosCanal/canal.xlsx\n"
     ]
    }
   ],
   "source": [
    "clean_file('./sinProcesar/canal.csv','./sinProcesar/algabo.xlsx', 'Algabo')"
   ]
  },
  {
   "cell_type": "code",
   "execution_count": 11,
   "metadata": {},
   "outputs": [
    {
     "name": "stderr",
     "output_type": "stream",
     "text": [
      "/Users/franciscofurey/00DataScience/Canal/funciones.py:206: FutureWarning: The default value of regex will change from True to False in a future version. In addition, single character regular expressions will *not* be treated as literal strings when regex=True.\n",
      "  \n"
     ]
    },
    {
     "name": "stdout",
     "output_type": "stream",
     "text": [
      "Archivo limpio guardado como ./sinProcesar/../procesados/furey.xlsx\n"
     ]
    },
    {
     "name": "stderr",
     "output_type": "stream",
     "text": [
      "/Users/franciscofurey/00DataScience/Canal/funciones.py:18: FutureWarning: The default value of regex will change from True to False in a future version.\n",
      "  df['Precio'] = df['Precio'].str.replace('\\..*', '').str.replace(',', '')\n"
     ]
    },
    {
     "name": "stdout",
     "output_type": "stream",
     "text": [
      "Archivo limpio guardado como ./sinProcesar/procesadosCanal/canal.xlsx\n"
     ]
    }
   ],
   "source": [
    "clean_file('./sinProcesar/canal.csv','./sinProcesar/furey.xlsx', 'Furey')"
   ]
  },
  {
   "cell_type": "code",
   "execution_count": 7,
   "metadata": {},
   "outputs": [
    {
     "name": "stderr",
     "output_type": "stream",
     "text": [
      "/Users/franciscofurey/00DataScience/Canal/actualizadorPrecios/funciones.py:18: FutureWarning: The default value of regex will change from True to False in a future version.\n",
      "  df['Precio'] = df['Precio'].str.replace('\\..*', '').str.replace(',', '')\n"
     ]
    },
    {
     "name": "stdout",
     "output_type": "stream",
     "text": [
      "Archivo limpio guardado como ./sinProcesar/procesadosCanal/../procesadosCanal/canalFurey.xlsx\n"
     ]
    }
   ],
   "source": [
    "from funciones import clean_algabo, clean_furey, concat, clean_canal\n",
    "clean_canal('./sinProcesar/canal.csv','../procesadosCanal/canalFurey',mpn_value='Furey')"
   ]
  },
  {
   "cell_type": "code",
   "execution_count": 11,
   "metadata": {},
   "outputs": [
    {
     "name": "stdout",
     "output_type": "stream",
     "text": [
      "Archivo CONCATENADO guardado como ./listos/fureyCanal.xlsx\n"
     ]
    }
   ],
   "source": [
    "from funciones import clean_algabo, clean_furey, concat, clean_canal\n",
    "concat('./sinProcesar/procesadosCanal/canalFurey.xlsx','./procesados/furey.xlsx','./listos/fureyCanal.xlsx')"
   ]
  },
  {
   "cell_type": "code",
   "execution_count": null,
   "metadata": {},
   "outputs": [],
   "source": []
  }
 ],
 "metadata": {
  "kernelspec": {
   "display_name": "base",
   "language": "python",
   "name": "python3"
  },
  "language_info": {
   "codemirror_mode": {
    "name": "ipython",
    "version": 3
   },
   "file_extension": ".py",
   "mimetype": "text/x-python",
   "name": "python",
   "nbconvert_exporter": "python",
   "pygments_lexer": "ipython3",
   "version": "3.9.13"
  },
  "orig_nbformat": 4
 },
 "nbformat": 4,
 "nbformat_minor": 2
}
