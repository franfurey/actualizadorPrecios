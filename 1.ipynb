{
 "cells": [
  {
   "cell_type": "code",
   "execution_count": 1,
   "metadata": {},
   "outputs": [],
   "source": [
    "import importlib\n",
    "import funciones\n",
    "importlib.reload(funciones)\n",
    "from funciones import clean_algabo, clean_furey, concat, clean_canal, scrape_drimel, clean_upalala\n",
    "\n",
    "def clean_file(canal,filename, company):\n",
    "    if company == \"Algabo\":\n",
    "        clean_algabo(filename)\n",
    "        clean_canal(canal,'algabo',mpn_value=company)\n",
    "        concat('./procesadosCanal/algabo.xlsx','./procesados/algabo.xlsx','./listos/algabo.xlsx')\n",
    "    elif company == \"Furey\":\n",
    "        clean_furey(filename)\n",
    "        clean_canal(canal,'furey',mpn_value=company)\n",
    "        concat('./procesadosCanal/furey.xlsx','./procesados/furey.xlsx','./listos/furey.xlsx')\n",
    "    elif company == 'Drimel':\n",
    "        scrape_drimel(filename)\n",
    "        clean_canal(canal,'drimel',mpn_value=company)\n",
    "        concat('./procesadosCanal/drimel.xlsx','./procesados/drimel.xlsx','./listos/drimel.xlsx')\n",
    "    elif company == 'Upalala':\n",
    "        clean_upalala(filename)\n",
    "        clean_canal(canal,'upalala',mpn_value= company)\n",
    "        concat('./procesadosCanal/upalala.xlsx','./procesados/upalala.xlsx','./listos/upalala.xlsx')\n",
    "    else:\n",
    "        raise ValueError(\"Company not recognized\")\n"
   ]
  },
  {
   "cell_type": "code",
   "execution_count": 3,
   "metadata": {},
   "outputs": [
    {
     "name": "stdout",
     "output_type": "stream",
     "text": [
      "Archivo guardado con exito\n",
      "Archivo limpio guardado como ./procesadosCanal/drimel.xlsx\n",
      "En general, los productos aumentaron en un 9.14%.\n",
      "Se encontraron 14 productos con un aumento excesivo:\n",
      "  - DONCELLA HISOPOSx100 (SKU: Drimel1479) aumentó un 10.10%.\n",
      "  - ESTRELLA ACONDICIONADOR SUAVESx400 (SKU: Drimel6759) aumentó un 10.05%.\n",
      "  - ESTRELLA ACONDICIONADOR CLAROSx400 (SKU: Drimel6760) aumentó un 10.05%.\n",
      "  - ESTRELLA ACONDICIONADOR EQUILIBRIOx400 (SKU: Drimel6761) aumentó un 10.05%.\n",
      "  - ESTRELLA SHAMPOO CLAROSx200 (SKU: Drimel6764) aumentó un 10.05%.\n",
      "  - ESTRELLA SHAMPOO EQULIBRIOx200 (SKU: Drimel6765) aumentó un 10.05%.\n",
      "  - ESTRELLA SHAMPOO CLAROSx400 (SKU: Drimel6766) aumentó un 10.05%.\n",
      "  - ESTRELLA SHAMPOO EQUILIBRIOx400 (SKU: Drimel6767) aumentó un 10.05%.\n",
      "  - ESTRELLA ACONDICIONADOR SUAVESx200 (SKU: Drimel6768) aumentó un 10.05%.\n",
      "  - ESTRELLA ACONDICIONADOR EQUILIBRIOx200 (SKU: Drimel6769) aumentó un 10.05%.\n",
      "  - ESTRELLA OLEO ALGODONx500 (SKU: Drimel6784) aumentó un 10.04%.\n",
      "  - ESTRELLA OLEO ALGODONx950 (SKU: Drimel6792) aumentó un 10.07%.\n",
      "  - ESTRELLA POMPONES x50 (SKU: Drimel6875) aumentó un 10.37%.\n",
      "  - ESTRELLA TOALLAS HUMEDAS RELAJANTEx50 (SKU: Drimel7706) aumentó un 11.14%.\n",
      "\n",
      "Total de filas en df_result: 217\n",
      "Filas con similaridad del 100%: 170\n",
      "Filas de CANAL no encontradas en df2: 27\n",
      "Filas de df2 no encontradas en CANAL: 20\n",
      "\n",
      "Archivo CONCATENADO guardado como ./listos/drimel.xlsx\n"
     ]
    }
   ],
   "source": [
    "# DRIMEL\n",
    "clean_file('./sinProcesar/canal.csv',\n",
    "           ['https://drimel.com.ar/?product_cat=bebes', 'https://drimel.com.ar/?product_cat=cuidado-del-bebe'],\n",
    "            'Drimel')"
   ]
  },
  {
   "cell_type": "code",
   "execution_count": 2,
   "metadata": {},
   "outputs": [
    {
     "name": "stderr",
     "output_type": "stream",
     "text": [
      "/Users/franciscofurey/00DataScience/Canal/actualizadorPrecios/funciones.py:187: FutureWarning: The default value of regex will change from True to False in a future version. In addition, single character regular expressions will *not* be treated as literal strings when regex=True.\n",
      "  df['Código de barras'] = df['Código de barras'].str.replace('.', '').str.replace('+', '').str.replace('E', '').str.replace('-', '')\n"
     ]
    },
    {
     "name": "stdout",
     "output_type": "stream",
     "text": [
      "Archivo limpio guardado como ./procesados/algabo.xlsx\n",
      "Archivo limpio guardado como ./procesadosCanal/algabo.xlsx\n",
      "En general, los productos aumentaron en un 6.79%.\n",
      "Se encontraron 4 productos con un aumento excesivo:\n",
      "  - vais limpiavidrios gatillo 500 (SKU: Algabo1010151.0) aumentó un 10.37%.\n",
      "  - vais limpiavidrios ep 900 (SKU: Algabo1010687.0) aumentó un 11.66%.\n",
      "  - vais repelente crema plus 200 (SKU: Algabo1020206.0) aumentó un 11.99%.\n",
      "  - vais repelente extreme 200 (SKU: Algabo1020209.0) aumentó un 18.56%.\n",
      "\n",
      "Total de filas en df_result: 313\n",
      "Filas con similaridad del 100%: 288\n",
      "Filas de CANAL no encontradas en df2: 15\n",
      "Filas de df2 no encontradas en CANAL: 13\n",
      "\n",
      "Archivo CONCATENADO guardado como ./listos/algabo.xlsx\n"
     ]
    }
   ],
   "source": [
    "# ALGABO\n",
    "clean_file('./sinProcesar/canal.csv',\n",
    "           './sinProcesar/algabo.xlsx',\n",
    "           'Algabo')"
   ]
  },
  {
   "cell_type": "code",
   "execution_count": 4,
   "metadata": {},
   "outputs": [
    {
     "name": "stderr",
     "output_type": "stream",
     "text": [
      "/Users/franciscofurey/00DataScience/Canal/actualizadorPrecios/funciones.py:262: FutureWarning: The default value of regex will change from True to False in a future version. In addition, single character regular expressions will *not* be treated as literal strings when regex=True.\n",
      "  df['Código de barras'] = df['Código de barras'].str.replace('.', '').str.replace('+', '').str.replace('E', '').str.replace('-', '')\n"
     ]
    },
    {
     "name": "stdout",
     "output_type": "stream",
     "text": [
      "Archivo limpio guardado como ./procesados/furey.xlsx\n",
      "Archivo limpio guardado como ./procesadosCanal/furey.xlsx\n",
      "En general, los productos aumentaron en un 38.52%.\n",
      "Se encontraron 4 productos con un aumento excesivo:\n",
      "  - CEPILLO NEUMATICO OVAL GRANDE OGIB 405 (SKU: Furey5811) aumentó un 31.46%.\n",
      "  - DISWALD CEPILLO NEUMATICO OVAL (405) (SKU: Furey5811) aumentó un 31.46%.\n",
      "  - CEPILLO NEUMATICO CHICO OGIB 406 (SKU: Furey5812) aumentó un 45.58%.\n",
      "  - DISWALD CEPILLO NEUMATICO FINO (406) (SKU: Furey5812) aumentó un 45.58%.\n",
      "\n",
      "Total de filas en df_result: 2312\n",
      "Filas con similaridad del 100%: 2074\n",
      "Filas de CANAL no encontradas en df2: 198\n",
      "Filas de df2 no encontradas en CANAL: 40\n",
      "\n",
      "Archivo CONCATENADO guardado como ./listos/furey.xlsx\n"
     ]
    }
   ],
   "source": [
    "# FUREY\n",
    "clean_file('./sinProcesar/canal.csv',\n",
    "           './sinProcesar/furey.xlsx',\n",
    "           'Furey')"
   ]
  },
  {
   "cell_type": "code",
   "execution_count": 6,
   "metadata": {},
   "outputs": [
    {
     "name": "stderr",
     "output_type": "stream",
     "text": [
      "/Users/franciscofurey/00DataScience/Canal/actualizadorPrecios/funciones.py:482: FutureWarning: The default value of regex will change from True to False in a future version. In addition, single character regular expressions will *not* be treated as literal strings when regex=True.\n",
      "  df['Código de barras'] = df['Código de barras'].str.replace('.', '').str.replace('+', '').str.replace('E', '').str.replace('-', '')\n"
     ]
    },
    {
     "name": "stdout",
     "output_type": "stream",
     "text": [
      "Archivo limpio guardado como ./procesados/upalala.xlsx\n",
      "Archivo limpio guardado como ./procesadosCanal/upalala.xlsx\n",
      "En general, los productos aumentaron en un 15.10%.\n",
      "Se encontraron 16 productos con un aumento excesivo:\n",
      "  - Upalala - Estuche Babero y Escarpin - Colonia, Talco, Babero, Escarpines (SKU: nan) aumentó un 20.01%.\n",
      "  - Upalala - Set Jabonoso - Colonia, Jabón Osito, Muñeco (SKU: nan) aumentó un 19.98%.\n",
      "  - Upalala - Set Portachupete - Colonia, Portachupete (SKU: nan) aumentó un 19.92%.\n",
      "  - Upalala - Set Pantufla - Colonia, Jabón, Pantuflas (SKU: nan) aumentó un 19.95%.\n",
      "  - Upalala - Set Zoo - Colonia, Jabón, Muñeco (SKU: nan) aumentó un 20.06%.\n",
      "  - Upalala - Estuche Escarpín - Colonia, Shampoo, Jabón, Talco, Escarpines (SKU: nan) aumentó un 20.06%.\n",
      "  - Upalala - Caja Sorpresa - Colonia, Shampoo, Toallas húmedas (SKU: nan) aumentó un 20.02%.\n",
      "  - Upalala - Estuche Babero Bordado - Colonia, Talco, Babero Bordado (SKU: nan) aumentó un 20.00%.\n",
      "  - Upalala - Estuche Rosca - Colonia, Shampoo, Talco, Jabón, Muñeco (SKU: nan) aumentó un 20.06%.\n",
      "  - Upalala - Estuche Animalito - Colonia, Talco, Peluche (SKU: nan) aumentó un 20.09%.\n",
      "  - Caja Regalo Peluche (colonia, shampoo y toalla humeda) (SKU: nan) aumentó un 19.98%.\n",
      "  - Set Olaf (Bata, Ranita y Escarpines) (SKU: nan) aumentó un 20.01%.\n",
      "  - Set Nala - Body, Gorro y Escarpines - Natural (SKU: nan) aumentó un 20.00%.\n",
      "  - Set Pepa - Gorro, Babita, Babero y Escarpines - Natural (SKU: nan) aumentó un 19.98%.\n",
      "  - Set Nemo (Ranita y Pantalon) (SKU: nan) aumentó un 20.00%.\n",
      "  - Set Daisy - Pantalón, Remera y Gorrito - Animalitos (SKU: nan) aumentó un 20.00%.\n",
      "\n",
      "Total de filas en df_result: 54\n",
      "Filas con similaridad del 100%: 29\n",
      "Filas de CANAL no encontradas en df2: 25\n",
      "Filas de df2 no encontradas en CANAL: 54\n",
      "\n",
      "Archivo CONCATENADO guardado como ./listos/upalala.xlsx\n"
     ]
    }
   ],
   "source": [
    "# UPALALA\n",
    "clean_file('./sinProcesar/canal.csv',\n",
    "           './sinProcesar/upalala.xlsx',\n",
    "           'Upalala')"
   ]
  },
  {
   "cell_type": "code",
   "execution_count": null,
   "metadata": {},
   "outputs": [],
   "source": []
  }
 ],
 "metadata": {
  "kernelspec": {
   "display_name": "base",
   "language": "python",
   "name": "python3"
  },
  "language_info": {
   "codemirror_mode": {
    "name": "ipython",
    "version": 3
   },
   "file_extension": ".py",
   "mimetype": "text/x-python",
   "name": "python",
   "nbconvert_exporter": "python",
   "pygments_lexer": "ipython3",
   "version": "3.9.13"
  },
  "orig_nbformat": 4
 },
 "nbformat": 4,
 "nbformat_minor": 2
}
