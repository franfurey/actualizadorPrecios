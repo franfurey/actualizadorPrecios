{
 "cells": [
  {
   "cell_type": "code",
   "execution_count": 55,
   "metadata": {},
   "outputs": [],
   "source": [
    "import importlib\n",
    "import funciones\n",
    "importlib.reload(funciones)\n",
    "from funciones import clean_algabo, clean_furey, concat, clean_canal, scrape_drimel, clean_upalala, clean_teddy\n",
    "\n",
    "def clean_file(canal,filename, company):\n",
    "    if company == \"Algabo\":\n",
    "        clean_algabo(filename)\n",
    "        clean_canal(canal,'algabo',mpn_value=company)\n",
    "        concat('./procesadosCanal/algabo.xlsx','./procesados/algabo.xlsx','./listos/algabo.xlsx')\n",
    "    elif company == \"Furey\":\n",
    "        clean_furey(filename)\n",
    "        clean_canal(canal,'furey',mpn_value=company)\n",
    "        concat('./procesadosCanal/furey.xlsx','./procesados/furey.xlsx','./listos/furey.xlsx')\n",
    "    elif company == 'Drimel':\n",
    "        scrape_drimel(filename)\n",
    "        clean_canal(canal,'drimel',mpn_value=company)\n",
    "        concat('./procesadosCanal/drimel.xlsx','./procesados/drimel.xlsx','./listos/drimel.xlsx')\n",
    "    elif company == 'Upalala':\n",
    "        clean_upalala(filename)\n",
    "        clean_canal(canal,'upalala',mpn_value= company)\n",
    "        concat('./procesadosCanal/upalala.xlsx','./procesados/upalala.xlsx','./listos/upalala.xlsx')\n",
    "    elif company == 'Teddy':\n",
    "        clean_teddy(filename)\n",
    "        clean_canal(canal, 'teddy', mpn_value = company)\n",
    "        concat('./procesadosCanal/teddy.xlsx','./procesados/teddy.xlsx','./listos/teddy.xlsx')\n",
    "    else:\n",
    "        raise ValueError(\"Company not recognized\")\n"
   ]
  },
  {
   "cell_type": "code",
   "execution_count": 56,
   "metadata": {},
   "outputs": [
    {
     "ename": "KeyboardInterrupt",
     "evalue": "",
     "output_type": "error",
     "traceback": [
      "\u001b[0;31m---------------------------------------------------------------------------\u001b[0m",
      "\u001b[0;31mKeyboardInterrupt\u001b[0m                         Traceback (most recent call last)",
      "\u001b[0;32m/var/folders/mb/tcvp4z490sz6dt5nlf1qwh580000gn/T/ipykernel_13135/4130280637.py\u001b[0m in \u001b[0;36m<module>\u001b[0;34m\u001b[0m\n\u001b[1;32m      1\u001b[0m \u001b[0;31m# DRIMEL\u001b[0m\u001b[0;34m\u001b[0m\u001b[0;34m\u001b[0m\u001b[0m\n\u001b[0;32m----> 2\u001b[0;31m clean_file('./sinProcesar/canal.csv',\n\u001b[0m\u001b[1;32m      3\u001b[0m            \u001b[0;34m[\u001b[0m\u001b[0;34m'https://drimel.com.ar/?product_cat=bebes'\u001b[0m\u001b[0;34m,\u001b[0m \u001b[0;34m'https://drimel.com.ar/?product_cat=cuidado-del-bebe'\u001b[0m\u001b[0;34m]\u001b[0m\u001b[0;34m,\u001b[0m\u001b[0;34m\u001b[0m\u001b[0;34m\u001b[0m\u001b[0m\n\u001b[1;32m      4\u001b[0m             'Drimel')\n",
      "\u001b[0;32m/var/folders/mb/tcvp4z490sz6dt5nlf1qwh580000gn/T/ipykernel_13135/4244270892.py\u001b[0m in \u001b[0;36mclean_file\u001b[0;34m(canal, filename, company)\u001b[0m\n\u001b[1;32m     14\u001b[0m         \u001b[0mconcat\u001b[0m\u001b[0;34m(\u001b[0m\u001b[0;34m'./procesadosCanal/furey.xlsx'\u001b[0m\u001b[0;34m,\u001b[0m\u001b[0;34m'./procesados/furey.xlsx'\u001b[0m\u001b[0;34m,\u001b[0m\u001b[0;34m'./listos/furey.xlsx'\u001b[0m\u001b[0;34m)\u001b[0m\u001b[0;34m\u001b[0m\u001b[0;34m\u001b[0m\u001b[0m\n\u001b[1;32m     15\u001b[0m     \u001b[0;32melif\u001b[0m \u001b[0mcompany\u001b[0m \u001b[0;34m==\u001b[0m \u001b[0;34m'Drimel'\u001b[0m\u001b[0;34m:\u001b[0m\u001b[0;34m\u001b[0m\u001b[0;34m\u001b[0m\u001b[0m\n\u001b[0;32m---> 16\u001b[0;31m         \u001b[0mscrape_drimel\u001b[0m\u001b[0;34m(\u001b[0m\u001b[0mfilename\u001b[0m\u001b[0;34m)\u001b[0m\u001b[0;34m\u001b[0m\u001b[0;34m\u001b[0m\u001b[0m\n\u001b[0m\u001b[1;32m     17\u001b[0m         \u001b[0mclean_canal\u001b[0m\u001b[0;34m(\u001b[0m\u001b[0mcanal\u001b[0m\u001b[0;34m,\u001b[0m\u001b[0;34m'drimel'\u001b[0m\u001b[0;34m,\u001b[0m\u001b[0mmpn_value\u001b[0m\u001b[0;34m=\u001b[0m\u001b[0mcompany\u001b[0m\u001b[0;34m)\u001b[0m\u001b[0;34m\u001b[0m\u001b[0;34m\u001b[0m\u001b[0m\n\u001b[1;32m     18\u001b[0m         \u001b[0mconcat\u001b[0m\u001b[0;34m(\u001b[0m\u001b[0;34m'./procesadosCanal/drimel.xlsx'\u001b[0m\u001b[0;34m,\u001b[0m\u001b[0;34m'./procesados/drimel.xlsx'\u001b[0m\u001b[0;34m,\u001b[0m\u001b[0;34m'./listos/drimel.xlsx'\u001b[0m\u001b[0;34m)\u001b[0m\u001b[0;34m\u001b[0m\u001b[0;34m\u001b[0m\u001b[0m\n",
      "\u001b[0;32m~/00DataScience/Canal/actualizadorPrecios/funciones.py\u001b[0m in \u001b[0;36mscrape_drimel\u001b[0;34m(urls)\u001b[0m\n\u001b[1;32m    456\u001b[0m             \u001b[0murl\u001b[0m \u001b[0;34m=\u001b[0m \u001b[0mextract_url\u001b[0m \u001b[0;34m+\u001b[0m \u001b[0;34m'&paged={}'\u001b[0m\u001b[0;34m.\u001b[0m\u001b[0mformat\u001b[0m\u001b[0;34m(\u001b[0m\u001b[0mpage\u001b[0m\u001b[0;34m)\u001b[0m\u001b[0;34m\u001b[0m\u001b[0;34m\u001b[0m\u001b[0m\n\u001b[1;32m    457\u001b[0m \u001b[0;34m\u001b[0m\u001b[0m\n\u001b[0;32m--> 458\u001b[0;31m             \u001b[0mresponse\u001b[0m \u001b[0;34m=\u001b[0m \u001b[0mrequests\u001b[0m\u001b[0;34m.\u001b[0m\u001b[0mget\u001b[0m\u001b[0;34m(\u001b[0m\u001b[0murl\u001b[0m\u001b[0;34m)\u001b[0m\u001b[0;34m\u001b[0m\u001b[0;34m\u001b[0m\u001b[0m\n\u001b[0m\u001b[1;32m    459\u001b[0m             \u001b[0msoup\u001b[0m \u001b[0;34m=\u001b[0m \u001b[0mBeautifulSoup\u001b[0m\u001b[0;34m(\u001b[0m\u001b[0mresponse\u001b[0m\u001b[0;34m.\u001b[0m\u001b[0mcontent\u001b[0m\u001b[0;34m,\u001b[0m \u001b[0;34m'html.parser'\u001b[0m\u001b[0;34m)\u001b[0m\u001b[0;34m\u001b[0m\u001b[0;34m\u001b[0m\u001b[0m\n\u001b[1;32m    460\u001b[0m \u001b[0;34m\u001b[0m\u001b[0m\n",
      "\u001b[0;32m~/opt/anaconda3/lib/python3.9/site-packages/requests/api.py\u001b[0m in \u001b[0;36mget\u001b[0;34m(url, params, **kwargs)\u001b[0m\n\u001b[1;32m     71\u001b[0m     \"\"\"\n\u001b[1;32m     72\u001b[0m \u001b[0;34m\u001b[0m\u001b[0m\n\u001b[0;32m---> 73\u001b[0;31m     \u001b[0;32mreturn\u001b[0m \u001b[0mrequest\u001b[0m\u001b[0;34m(\u001b[0m\u001b[0;34m\"get\"\u001b[0m\u001b[0;34m,\u001b[0m \u001b[0murl\u001b[0m\u001b[0;34m,\u001b[0m \u001b[0mparams\u001b[0m\u001b[0;34m=\u001b[0m\u001b[0mparams\u001b[0m\u001b[0;34m,\u001b[0m \u001b[0;34m**\u001b[0m\u001b[0mkwargs\u001b[0m\u001b[0;34m)\u001b[0m\u001b[0;34m\u001b[0m\u001b[0;34m\u001b[0m\u001b[0m\n\u001b[0m\u001b[1;32m     74\u001b[0m \u001b[0;34m\u001b[0m\u001b[0m\n\u001b[1;32m     75\u001b[0m \u001b[0;34m\u001b[0m\u001b[0m\n",
      "\u001b[0;32m~/opt/anaconda3/lib/python3.9/site-packages/requests/api.py\u001b[0m in \u001b[0;36mrequest\u001b[0;34m(method, url, **kwargs)\u001b[0m\n\u001b[1;32m     57\u001b[0m     \u001b[0;31m# cases, and look like a memory leak in others.\u001b[0m\u001b[0;34m\u001b[0m\u001b[0;34m\u001b[0m\u001b[0m\n\u001b[1;32m     58\u001b[0m     \u001b[0;32mwith\u001b[0m \u001b[0msessions\u001b[0m\u001b[0;34m.\u001b[0m\u001b[0mSession\u001b[0m\u001b[0;34m(\u001b[0m\u001b[0;34m)\u001b[0m \u001b[0;32mas\u001b[0m \u001b[0msession\u001b[0m\u001b[0;34m:\u001b[0m\u001b[0;34m\u001b[0m\u001b[0;34m\u001b[0m\u001b[0m\n\u001b[0;32m---> 59\u001b[0;31m         \u001b[0;32mreturn\u001b[0m \u001b[0msession\u001b[0m\u001b[0;34m.\u001b[0m\u001b[0mrequest\u001b[0m\u001b[0;34m(\u001b[0m\u001b[0mmethod\u001b[0m\u001b[0;34m=\u001b[0m\u001b[0mmethod\u001b[0m\u001b[0;34m,\u001b[0m \u001b[0murl\u001b[0m\u001b[0;34m=\u001b[0m\u001b[0murl\u001b[0m\u001b[0;34m,\u001b[0m \u001b[0;34m**\u001b[0m\u001b[0mkwargs\u001b[0m\u001b[0;34m)\u001b[0m\u001b[0;34m\u001b[0m\u001b[0;34m\u001b[0m\u001b[0m\n\u001b[0m\u001b[1;32m     60\u001b[0m \u001b[0;34m\u001b[0m\u001b[0m\n\u001b[1;32m     61\u001b[0m \u001b[0;34m\u001b[0m\u001b[0m\n",
      "\u001b[0;32m~/opt/anaconda3/lib/python3.9/site-packages/requests/sessions.py\u001b[0m in \u001b[0;36mrequest\u001b[0;34m(self, method, url, params, data, headers, cookies, files, auth, timeout, allow_redirects, proxies, hooks, stream, verify, cert, json)\u001b[0m\n\u001b[1;32m    585\u001b[0m         }\n\u001b[1;32m    586\u001b[0m         \u001b[0msend_kwargs\u001b[0m\u001b[0;34m.\u001b[0m\u001b[0mupdate\u001b[0m\u001b[0;34m(\u001b[0m\u001b[0msettings\u001b[0m\u001b[0;34m)\u001b[0m\u001b[0;34m\u001b[0m\u001b[0;34m\u001b[0m\u001b[0m\n\u001b[0;32m--> 587\u001b[0;31m         \u001b[0mresp\u001b[0m \u001b[0;34m=\u001b[0m \u001b[0mself\u001b[0m\u001b[0;34m.\u001b[0m\u001b[0msend\u001b[0m\u001b[0;34m(\u001b[0m\u001b[0mprep\u001b[0m\u001b[0;34m,\u001b[0m \u001b[0;34m**\u001b[0m\u001b[0msend_kwargs\u001b[0m\u001b[0;34m)\u001b[0m\u001b[0;34m\u001b[0m\u001b[0;34m\u001b[0m\u001b[0m\n\u001b[0m\u001b[1;32m    588\u001b[0m \u001b[0;34m\u001b[0m\u001b[0m\n\u001b[1;32m    589\u001b[0m         \u001b[0;32mreturn\u001b[0m \u001b[0mresp\u001b[0m\u001b[0;34m\u001b[0m\u001b[0;34m\u001b[0m\u001b[0m\n",
      "\u001b[0;32m~/opt/anaconda3/lib/python3.9/site-packages/requests/sessions.py\u001b[0m in \u001b[0;36msend\u001b[0;34m(self, request, **kwargs)\u001b[0m\n\u001b[1;32m    721\u001b[0m             \u001b[0;31m# Redirect resolving generator.\u001b[0m\u001b[0;34m\u001b[0m\u001b[0;34m\u001b[0m\u001b[0m\n\u001b[1;32m    722\u001b[0m             \u001b[0mgen\u001b[0m \u001b[0;34m=\u001b[0m \u001b[0mself\u001b[0m\u001b[0;34m.\u001b[0m\u001b[0mresolve_redirects\u001b[0m\u001b[0;34m(\u001b[0m\u001b[0mr\u001b[0m\u001b[0;34m,\u001b[0m \u001b[0mrequest\u001b[0m\u001b[0;34m,\u001b[0m \u001b[0;34m**\u001b[0m\u001b[0mkwargs\u001b[0m\u001b[0;34m)\u001b[0m\u001b[0;34m\u001b[0m\u001b[0;34m\u001b[0m\u001b[0m\n\u001b[0;32m--> 723\u001b[0;31m             \u001b[0mhistory\u001b[0m \u001b[0;34m=\u001b[0m \u001b[0;34m[\u001b[0m\u001b[0mresp\u001b[0m \u001b[0;32mfor\u001b[0m \u001b[0mresp\u001b[0m \u001b[0;32min\u001b[0m \u001b[0mgen\u001b[0m\u001b[0;34m]\u001b[0m\u001b[0;34m\u001b[0m\u001b[0;34m\u001b[0m\u001b[0m\n\u001b[0m\u001b[1;32m    724\u001b[0m         \u001b[0;32melse\u001b[0m\u001b[0;34m:\u001b[0m\u001b[0;34m\u001b[0m\u001b[0;34m\u001b[0m\u001b[0m\n\u001b[1;32m    725\u001b[0m             \u001b[0mhistory\u001b[0m \u001b[0;34m=\u001b[0m \u001b[0;34m[\u001b[0m\u001b[0;34m]\u001b[0m\u001b[0;34m\u001b[0m\u001b[0;34m\u001b[0m\u001b[0m\n",
      "\u001b[0;32m~/opt/anaconda3/lib/python3.9/site-packages/requests/sessions.py\u001b[0m in \u001b[0;36m<listcomp>\u001b[0;34m(.0)\u001b[0m\n\u001b[1;32m    721\u001b[0m             \u001b[0;31m# Redirect resolving generator.\u001b[0m\u001b[0;34m\u001b[0m\u001b[0;34m\u001b[0m\u001b[0m\n\u001b[1;32m    722\u001b[0m             \u001b[0mgen\u001b[0m \u001b[0;34m=\u001b[0m \u001b[0mself\u001b[0m\u001b[0;34m.\u001b[0m\u001b[0mresolve_redirects\u001b[0m\u001b[0;34m(\u001b[0m\u001b[0mr\u001b[0m\u001b[0;34m,\u001b[0m \u001b[0mrequest\u001b[0m\u001b[0;34m,\u001b[0m \u001b[0;34m**\u001b[0m\u001b[0mkwargs\u001b[0m\u001b[0;34m)\u001b[0m\u001b[0;34m\u001b[0m\u001b[0;34m\u001b[0m\u001b[0m\n\u001b[0;32m--> 723\u001b[0;31m             \u001b[0mhistory\u001b[0m \u001b[0;34m=\u001b[0m \u001b[0;34m[\u001b[0m\u001b[0mresp\u001b[0m \u001b[0;32mfor\u001b[0m \u001b[0mresp\u001b[0m \u001b[0;32min\u001b[0m \u001b[0mgen\u001b[0m\u001b[0;34m]\u001b[0m\u001b[0;34m\u001b[0m\u001b[0;34m\u001b[0m\u001b[0m\n\u001b[0m\u001b[1;32m    724\u001b[0m         \u001b[0;32melse\u001b[0m\u001b[0;34m:\u001b[0m\u001b[0;34m\u001b[0m\u001b[0;34m\u001b[0m\u001b[0m\n\u001b[1;32m    725\u001b[0m             \u001b[0mhistory\u001b[0m \u001b[0;34m=\u001b[0m \u001b[0;34m[\u001b[0m\u001b[0;34m]\u001b[0m\u001b[0;34m\u001b[0m\u001b[0;34m\u001b[0m\u001b[0m\n",
      "\u001b[0;32m~/opt/anaconda3/lib/python3.9/site-packages/requests/sessions.py\u001b[0m in \u001b[0;36mresolve_redirects\u001b[0;34m(self, resp, req, stream, timeout, verify, cert, proxies, yield_requests, **adapter_kwargs)\u001b[0m\n\u001b[1;32m    264\u001b[0m             \u001b[0;32melse\u001b[0m\u001b[0;34m:\u001b[0m\u001b[0;34m\u001b[0m\u001b[0;34m\u001b[0m\u001b[0m\n\u001b[1;32m    265\u001b[0m \u001b[0;34m\u001b[0m\u001b[0m\n\u001b[0;32m--> 266\u001b[0;31m                 resp = self.send(\n\u001b[0m\u001b[1;32m    267\u001b[0m                     \u001b[0mreq\u001b[0m\u001b[0;34m,\u001b[0m\u001b[0;34m\u001b[0m\u001b[0;34m\u001b[0m\u001b[0m\n\u001b[1;32m    268\u001b[0m                     \u001b[0mstream\u001b[0m\u001b[0;34m=\u001b[0m\u001b[0mstream\u001b[0m\u001b[0;34m,\u001b[0m\u001b[0;34m\u001b[0m\u001b[0;34m\u001b[0m\u001b[0m\n",
      "\u001b[0;32m~/opt/anaconda3/lib/python3.9/site-packages/requests/sessions.py\u001b[0m in \u001b[0;36msend\u001b[0;34m(self, request, **kwargs)\u001b[0m\n\u001b[1;32m    699\u001b[0m \u001b[0;34m\u001b[0m\u001b[0m\n\u001b[1;32m    700\u001b[0m         \u001b[0;31m# Send the request\u001b[0m\u001b[0;34m\u001b[0m\u001b[0;34m\u001b[0m\u001b[0m\n\u001b[0;32m--> 701\u001b[0;31m         \u001b[0mr\u001b[0m \u001b[0;34m=\u001b[0m \u001b[0madapter\u001b[0m\u001b[0;34m.\u001b[0m\u001b[0msend\u001b[0m\u001b[0;34m(\u001b[0m\u001b[0mrequest\u001b[0m\u001b[0;34m,\u001b[0m \u001b[0;34m**\u001b[0m\u001b[0mkwargs\u001b[0m\u001b[0;34m)\u001b[0m\u001b[0;34m\u001b[0m\u001b[0;34m\u001b[0m\u001b[0m\n\u001b[0m\u001b[1;32m    702\u001b[0m \u001b[0;34m\u001b[0m\u001b[0m\n\u001b[1;32m    703\u001b[0m         \u001b[0;31m# Total elapsed time of the request (approximately)\u001b[0m\u001b[0;34m\u001b[0m\u001b[0;34m\u001b[0m\u001b[0m\n",
      "\u001b[0;32m~/opt/anaconda3/lib/python3.9/site-packages/requests/adapters.py\u001b[0m in \u001b[0;36msend\u001b[0;34m(self, request, stream, timeout, verify, cert, proxies)\u001b[0m\n\u001b[1;32m    487\u001b[0m         \u001b[0;32mtry\u001b[0m\u001b[0;34m:\u001b[0m\u001b[0;34m\u001b[0m\u001b[0;34m\u001b[0m\u001b[0m\n\u001b[1;32m    488\u001b[0m             \u001b[0;32mif\u001b[0m \u001b[0;32mnot\u001b[0m \u001b[0mchunked\u001b[0m\u001b[0;34m:\u001b[0m\u001b[0;34m\u001b[0m\u001b[0;34m\u001b[0m\u001b[0m\n\u001b[0;32m--> 489\u001b[0;31m                 resp = conn.urlopen(\n\u001b[0m\u001b[1;32m    490\u001b[0m                     \u001b[0mmethod\u001b[0m\u001b[0;34m=\u001b[0m\u001b[0mrequest\u001b[0m\u001b[0;34m.\u001b[0m\u001b[0mmethod\u001b[0m\u001b[0;34m,\u001b[0m\u001b[0;34m\u001b[0m\u001b[0;34m\u001b[0m\u001b[0m\n\u001b[1;32m    491\u001b[0m                     \u001b[0murl\u001b[0m\u001b[0;34m=\u001b[0m\u001b[0murl\u001b[0m\u001b[0;34m,\u001b[0m\u001b[0;34m\u001b[0m\u001b[0;34m\u001b[0m\u001b[0m\n",
      "\u001b[0;32m~/opt/anaconda3/lib/python3.9/site-packages/urllib3/connectionpool.py\u001b[0m in \u001b[0;36murlopen\u001b[0;34m(self, method, url, body, headers, retries, redirect, assert_same_host, timeout, pool_timeout, release_conn, chunked, body_pos, **response_kw)\u001b[0m\n\u001b[1;32m    701\u001b[0m \u001b[0;34m\u001b[0m\u001b[0m\n\u001b[1;32m    702\u001b[0m             \u001b[0;31m# Make the request on the httplib connection object.\u001b[0m\u001b[0;34m\u001b[0m\u001b[0;34m\u001b[0m\u001b[0m\n\u001b[0;32m--> 703\u001b[0;31m             httplib_response = self._make_request(\n\u001b[0m\u001b[1;32m    704\u001b[0m                 \u001b[0mconn\u001b[0m\u001b[0;34m,\u001b[0m\u001b[0;34m\u001b[0m\u001b[0;34m\u001b[0m\u001b[0m\n\u001b[1;32m    705\u001b[0m                 \u001b[0mmethod\u001b[0m\u001b[0;34m,\u001b[0m\u001b[0;34m\u001b[0m\u001b[0;34m\u001b[0m\u001b[0m\n",
      "\u001b[0;32m~/opt/anaconda3/lib/python3.9/site-packages/urllib3/connectionpool.py\u001b[0m in \u001b[0;36m_make_request\u001b[0;34m(self, conn, method, url, timeout, chunked, **httplib_request_kw)\u001b[0m\n\u001b[1;32m    447\u001b[0m                     \u001b[0;31m# Python 3 (including for exceptions like SystemExit).\u001b[0m\u001b[0;34m\u001b[0m\u001b[0;34m\u001b[0m\u001b[0m\n\u001b[1;32m    448\u001b[0m                     \u001b[0;31m# Otherwise it looks like a bug in the code.\u001b[0m\u001b[0;34m\u001b[0m\u001b[0;34m\u001b[0m\u001b[0m\n\u001b[0;32m--> 449\u001b[0;31m                     \u001b[0msix\u001b[0m\u001b[0;34m.\u001b[0m\u001b[0mraise_from\u001b[0m\u001b[0;34m(\u001b[0m\u001b[0me\u001b[0m\u001b[0;34m,\u001b[0m \u001b[0;32mNone\u001b[0m\u001b[0;34m)\u001b[0m\u001b[0;34m\u001b[0m\u001b[0;34m\u001b[0m\u001b[0m\n\u001b[0m\u001b[1;32m    450\u001b[0m         \u001b[0;32mexcept\u001b[0m \u001b[0;34m(\u001b[0m\u001b[0mSocketTimeout\u001b[0m\u001b[0;34m,\u001b[0m \u001b[0mBaseSSLError\u001b[0m\u001b[0;34m,\u001b[0m \u001b[0mSocketError\u001b[0m\u001b[0;34m)\u001b[0m \u001b[0;32mas\u001b[0m \u001b[0me\u001b[0m\u001b[0;34m:\u001b[0m\u001b[0;34m\u001b[0m\u001b[0;34m\u001b[0m\u001b[0m\n\u001b[1;32m    451\u001b[0m             \u001b[0mself\u001b[0m\u001b[0;34m.\u001b[0m\u001b[0m_raise_timeout\u001b[0m\u001b[0;34m(\u001b[0m\u001b[0merr\u001b[0m\u001b[0;34m=\u001b[0m\u001b[0me\u001b[0m\u001b[0;34m,\u001b[0m \u001b[0murl\u001b[0m\u001b[0;34m=\u001b[0m\u001b[0murl\u001b[0m\u001b[0;34m,\u001b[0m \u001b[0mtimeout_value\u001b[0m\u001b[0;34m=\u001b[0m\u001b[0mread_timeout\u001b[0m\u001b[0;34m)\u001b[0m\u001b[0;34m\u001b[0m\u001b[0;34m\u001b[0m\u001b[0m\n",
      "\u001b[0;32m~/opt/anaconda3/lib/python3.9/site-packages/urllib3/packages/six.py\u001b[0m in \u001b[0;36mraise_from\u001b[0;34m(value, from_value)\u001b[0m\n",
      "\u001b[0;32m~/opt/anaconda3/lib/python3.9/site-packages/urllib3/connectionpool.py\u001b[0m in \u001b[0;36m_make_request\u001b[0;34m(self, conn, method, url, timeout, chunked, **httplib_request_kw)\u001b[0m\n\u001b[1;32m    442\u001b[0m                 \u001b[0;31m# Python 3\u001b[0m\u001b[0;34m\u001b[0m\u001b[0;34m\u001b[0m\u001b[0m\n\u001b[1;32m    443\u001b[0m                 \u001b[0;32mtry\u001b[0m\u001b[0;34m:\u001b[0m\u001b[0;34m\u001b[0m\u001b[0;34m\u001b[0m\u001b[0m\n\u001b[0;32m--> 444\u001b[0;31m                     \u001b[0mhttplib_response\u001b[0m \u001b[0;34m=\u001b[0m \u001b[0mconn\u001b[0m\u001b[0;34m.\u001b[0m\u001b[0mgetresponse\u001b[0m\u001b[0;34m(\u001b[0m\u001b[0;34m)\u001b[0m\u001b[0;34m\u001b[0m\u001b[0;34m\u001b[0m\u001b[0m\n\u001b[0m\u001b[1;32m    445\u001b[0m                 \u001b[0;32mexcept\u001b[0m \u001b[0mBaseException\u001b[0m \u001b[0;32mas\u001b[0m \u001b[0me\u001b[0m\u001b[0;34m:\u001b[0m\u001b[0;34m\u001b[0m\u001b[0;34m\u001b[0m\u001b[0m\n\u001b[1;32m    446\u001b[0m                     \u001b[0;31m# Remove the TypeError from the exception chain in\u001b[0m\u001b[0;34m\u001b[0m\u001b[0;34m\u001b[0m\u001b[0m\n",
      "\u001b[0;32m~/opt/anaconda3/lib/python3.9/http/client.py\u001b[0m in \u001b[0;36mgetresponse\u001b[0;34m(self)\u001b[0m\n\u001b[1;32m   1375\u001b[0m         \u001b[0;32mtry\u001b[0m\u001b[0;34m:\u001b[0m\u001b[0;34m\u001b[0m\u001b[0;34m\u001b[0m\u001b[0m\n\u001b[1;32m   1376\u001b[0m             \u001b[0;32mtry\u001b[0m\u001b[0;34m:\u001b[0m\u001b[0;34m\u001b[0m\u001b[0;34m\u001b[0m\u001b[0m\n\u001b[0;32m-> 1377\u001b[0;31m                 \u001b[0mresponse\u001b[0m\u001b[0;34m.\u001b[0m\u001b[0mbegin\u001b[0m\u001b[0;34m(\u001b[0m\u001b[0;34m)\u001b[0m\u001b[0;34m\u001b[0m\u001b[0;34m\u001b[0m\u001b[0m\n\u001b[0m\u001b[1;32m   1378\u001b[0m             \u001b[0;32mexcept\u001b[0m \u001b[0mConnectionError\u001b[0m\u001b[0;34m:\u001b[0m\u001b[0;34m\u001b[0m\u001b[0;34m\u001b[0m\u001b[0m\n\u001b[1;32m   1379\u001b[0m                 \u001b[0mself\u001b[0m\u001b[0;34m.\u001b[0m\u001b[0mclose\u001b[0m\u001b[0;34m(\u001b[0m\u001b[0;34m)\u001b[0m\u001b[0;34m\u001b[0m\u001b[0;34m\u001b[0m\u001b[0m\n",
      "\u001b[0;32m~/opt/anaconda3/lib/python3.9/http/client.py\u001b[0m in \u001b[0;36mbegin\u001b[0;34m(self)\u001b[0m\n\u001b[1;32m    318\u001b[0m         \u001b[0;31m# read until we get a non-100 response\u001b[0m\u001b[0;34m\u001b[0m\u001b[0;34m\u001b[0m\u001b[0m\n\u001b[1;32m    319\u001b[0m         \u001b[0;32mwhile\u001b[0m \u001b[0;32mTrue\u001b[0m\u001b[0;34m:\u001b[0m\u001b[0;34m\u001b[0m\u001b[0;34m\u001b[0m\u001b[0m\n\u001b[0;32m--> 320\u001b[0;31m             \u001b[0mversion\u001b[0m\u001b[0;34m,\u001b[0m \u001b[0mstatus\u001b[0m\u001b[0;34m,\u001b[0m \u001b[0mreason\u001b[0m \u001b[0;34m=\u001b[0m \u001b[0mself\u001b[0m\u001b[0;34m.\u001b[0m\u001b[0m_read_status\u001b[0m\u001b[0;34m(\u001b[0m\u001b[0;34m)\u001b[0m\u001b[0;34m\u001b[0m\u001b[0;34m\u001b[0m\u001b[0m\n\u001b[0m\u001b[1;32m    321\u001b[0m             \u001b[0;32mif\u001b[0m \u001b[0mstatus\u001b[0m \u001b[0;34m!=\u001b[0m \u001b[0mCONTINUE\u001b[0m\u001b[0;34m:\u001b[0m\u001b[0;34m\u001b[0m\u001b[0;34m\u001b[0m\u001b[0m\n\u001b[1;32m    322\u001b[0m                 \u001b[0;32mbreak\u001b[0m\u001b[0;34m\u001b[0m\u001b[0;34m\u001b[0m\u001b[0m\n",
      "\u001b[0;32m~/opt/anaconda3/lib/python3.9/http/client.py\u001b[0m in \u001b[0;36m_read_status\u001b[0;34m(self)\u001b[0m\n\u001b[1;32m    279\u001b[0m \u001b[0;34m\u001b[0m\u001b[0m\n\u001b[1;32m    280\u001b[0m     \u001b[0;32mdef\u001b[0m \u001b[0m_read_status\u001b[0m\u001b[0;34m(\u001b[0m\u001b[0mself\u001b[0m\u001b[0;34m)\u001b[0m\u001b[0;34m:\u001b[0m\u001b[0;34m\u001b[0m\u001b[0;34m\u001b[0m\u001b[0m\n\u001b[0;32m--> 281\u001b[0;31m         \u001b[0mline\u001b[0m \u001b[0;34m=\u001b[0m \u001b[0mstr\u001b[0m\u001b[0;34m(\u001b[0m\u001b[0mself\u001b[0m\u001b[0;34m.\u001b[0m\u001b[0mfp\u001b[0m\u001b[0;34m.\u001b[0m\u001b[0mreadline\u001b[0m\u001b[0;34m(\u001b[0m\u001b[0m_MAXLINE\u001b[0m \u001b[0;34m+\u001b[0m \u001b[0;36m1\u001b[0m\u001b[0;34m)\u001b[0m\u001b[0;34m,\u001b[0m \u001b[0;34m\"iso-8859-1\"\u001b[0m\u001b[0;34m)\u001b[0m\u001b[0;34m\u001b[0m\u001b[0;34m\u001b[0m\u001b[0m\n\u001b[0m\u001b[1;32m    282\u001b[0m         \u001b[0;32mif\u001b[0m \u001b[0mlen\u001b[0m\u001b[0;34m(\u001b[0m\u001b[0mline\u001b[0m\u001b[0;34m)\u001b[0m \u001b[0;34m>\u001b[0m \u001b[0m_MAXLINE\u001b[0m\u001b[0;34m:\u001b[0m\u001b[0;34m\u001b[0m\u001b[0;34m\u001b[0m\u001b[0m\n\u001b[1;32m    283\u001b[0m             \u001b[0;32mraise\u001b[0m \u001b[0mLineTooLong\u001b[0m\u001b[0;34m(\u001b[0m\u001b[0;34m\"status line\"\u001b[0m\u001b[0;34m)\u001b[0m\u001b[0;34m\u001b[0m\u001b[0;34m\u001b[0m\u001b[0m\n",
      "\u001b[0;32m~/opt/anaconda3/lib/python3.9/socket.py\u001b[0m in \u001b[0;36mreadinto\u001b[0;34m(self, b)\u001b[0m\n\u001b[1;32m    702\u001b[0m         \u001b[0;32mwhile\u001b[0m \u001b[0;32mTrue\u001b[0m\u001b[0;34m:\u001b[0m\u001b[0;34m\u001b[0m\u001b[0;34m\u001b[0m\u001b[0m\n\u001b[1;32m    703\u001b[0m             \u001b[0;32mtry\u001b[0m\u001b[0;34m:\u001b[0m\u001b[0;34m\u001b[0m\u001b[0;34m\u001b[0m\u001b[0m\n\u001b[0;32m--> 704\u001b[0;31m                 \u001b[0;32mreturn\u001b[0m \u001b[0mself\u001b[0m\u001b[0;34m.\u001b[0m\u001b[0m_sock\u001b[0m\u001b[0;34m.\u001b[0m\u001b[0mrecv_into\u001b[0m\u001b[0;34m(\u001b[0m\u001b[0mb\u001b[0m\u001b[0;34m)\u001b[0m\u001b[0;34m\u001b[0m\u001b[0;34m\u001b[0m\u001b[0m\n\u001b[0m\u001b[1;32m    705\u001b[0m             \u001b[0;32mexcept\u001b[0m \u001b[0mtimeout\u001b[0m\u001b[0;34m:\u001b[0m\u001b[0;34m\u001b[0m\u001b[0;34m\u001b[0m\u001b[0m\n\u001b[1;32m    706\u001b[0m                 \u001b[0mself\u001b[0m\u001b[0;34m.\u001b[0m\u001b[0m_timeout_occurred\u001b[0m \u001b[0;34m=\u001b[0m \u001b[0;32mTrue\u001b[0m\u001b[0;34m\u001b[0m\u001b[0;34m\u001b[0m\u001b[0m\n",
      "\u001b[0;32m~/opt/anaconda3/lib/python3.9/ssl.py\u001b[0m in \u001b[0;36mrecv_into\u001b[0;34m(self, buffer, nbytes, flags)\u001b[0m\n\u001b[1;32m   1240\u001b[0m                   \u001b[0;34m\"non-zero flags not allowed in calls to recv_into() on %s\"\u001b[0m \u001b[0;34m%\u001b[0m\u001b[0;34m\u001b[0m\u001b[0;34m\u001b[0m\u001b[0m\n\u001b[1;32m   1241\u001b[0m                   self.__class__)\n\u001b[0;32m-> 1242\u001b[0;31m             \u001b[0;32mreturn\u001b[0m \u001b[0mself\u001b[0m\u001b[0;34m.\u001b[0m\u001b[0mread\u001b[0m\u001b[0;34m(\u001b[0m\u001b[0mnbytes\u001b[0m\u001b[0;34m,\u001b[0m \u001b[0mbuffer\u001b[0m\u001b[0;34m)\u001b[0m\u001b[0;34m\u001b[0m\u001b[0;34m\u001b[0m\u001b[0m\n\u001b[0m\u001b[1;32m   1243\u001b[0m         \u001b[0;32melse\u001b[0m\u001b[0;34m:\u001b[0m\u001b[0;34m\u001b[0m\u001b[0;34m\u001b[0m\u001b[0m\n\u001b[1;32m   1244\u001b[0m             \u001b[0;32mreturn\u001b[0m \u001b[0msuper\u001b[0m\u001b[0;34m(\u001b[0m\u001b[0;34m)\u001b[0m\u001b[0;34m.\u001b[0m\u001b[0mrecv_into\u001b[0m\u001b[0;34m(\u001b[0m\u001b[0mbuffer\u001b[0m\u001b[0;34m,\u001b[0m \u001b[0mnbytes\u001b[0m\u001b[0;34m,\u001b[0m \u001b[0mflags\u001b[0m\u001b[0;34m)\u001b[0m\u001b[0;34m\u001b[0m\u001b[0;34m\u001b[0m\u001b[0m\n",
      "\u001b[0;32m~/opt/anaconda3/lib/python3.9/ssl.py\u001b[0m in \u001b[0;36mread\u001b[0;34m(self, len, buffer)\u001b[0m\n\u001b[1;32m   1098\u001b[0m         \u001b[0;32mtry\u001b[0m\u001b[0;34m:\u001b[0m\u001b[0;34m\u001b[0m\u001b[0;34m\u001b[0m\u001b[0m\n\u001b[1;32m   1099\u001b[0m             \u001b[0;32mif\u001b[0m \u001b[0mbuffer\u001b[0m \u001b[0;32mis\u001b[0m \u001b[0;32mnot\u001b[0m \u001b[0;32mNone\u001b[0m\u001b[0;34m:\u001b[0m\u001b[0;34m\u001b[0m\u001b[0;34m\u001b[0m\u001b[0m\n\u001b[0;32m-> 1100\u001b[0;31m                 \u001b[0;32mreturn\u001b[0m \u001b[0mself\u001b[0m\u001b[0;34m.\u001b[0m\u001b[0m_sslobj\u001b[0m\u001b[0;34m.\u001b[0m\u001b[0mread\u001b[0m\u001b[0;34m(\u001b[0m\u001b[0mlen\u001b[0m\u001b[0;34m,\u001b[0m \u001b[0mbuffer\u001b[0m\u001b[0;34m)\u001b[0m\u001b[0;34m\u001b[0m\u001b[0;34m\u001b[0m\u001b[0m\n\u001b[0m\u001b[1;32m   1101\u001b[0m             \u001b[0;32melse\u001b[0m\u001b[0;34m:\u001b[0m\u001b[0;34m\u001b[0m\u001b[0;34m\u001b[0m\u001b[0m\n\u001b[1;32m   1102\u001b[0m                 \u001b[0;32mreturn\u001b[0m \u001b[0mself\u001b[0m\u001b[0;34m.\u001b[0m\u001b[0m_sslobj\u001b[0m\u001b[0;34m.\u001b[0m\u001b[0mread\u001b[0m\u001b[0;34m(\u001b[0m\u001b[0mlen\u001b[0m\u001b[0;34m)\u001b[0m\u001b[0;34m\u001b[0m\u001b[0;34m\u001b[0m\u001b[0m\n",
      "\u001b[0;31mKeyboardInterrupt\u001b[0m: "
     ]
    }
   ],
   "source": [
    "# DRIMEL\n",
    "clean_file('./sinProcesar/canal.csv',\n",
    "           ['https://drimel.com.ar/?product_cat=bebes', 'https://drimel.com.ar/?product_cat=cuidado-del-bebe'],\n",
    "            'Drimel')"
   ]
  },
  {
   "cell_type": "code",
   "execution_count": 57,
   "metadata": {},
   "outputs": [
    {
     "name": "stdout",
     "output_type": "stream",
     "text": [
      "Archivo limpio guardado como ./procesados/algabo.xlsx\n",
      "Archivo limpio guardado como ./procesadosCanal/algabo.xlsx\n",
      "\n",
      "En general, los productos aumentaron en un nan%.\n",
      "De los 313 productos, 0 sufrieron un aumento.\n",
      "\n",
      "Total de filas en df_result: 313\n",
      "Filas con similaridad del 100%: 288\n",
      "Filas de CANAL no encontradas en df2: 15\n",
      "Filas de df2 no encontradas en CANAL: 13\n",
      "\n",
      "Archivo CONCATENADO guardado como ./listos/algabo.xlsx\n",
      "\n",
      "No se encontraron aumentos excesivos en los productos.\n"
     ]
    }
   ],
   "source": [
    "# ALGABO\n",
    "clean_file('./sinProcesar/canal.csv',\n",
    "           './sinProcesar/algabo.xlsx',\n",
    "           'Algabo')"
   ]
  },
  {
   "cell_type": "code",
   "execution_count": 53,
   "metadata": {},
   "outputs": [
    {
     "name": "stdout",
     "output_type": "stream",
     "text": [
      "Archivo limpio guardado como ./procesados/furey.xlsx\n",
      "Archivo limpio guardado como ./procesadosCanal/furey.xlsx\n",
      "\n",
      "En general, los productos aumentaron en un 12.44%.\n",
      "De los 2327 productos, 166 sufrieron un aumento.\n",
      "\n",
      "Total de filas en df_result: 2327\n",
      "Filas con similaridad del 100%: 2073\n",
      "Filas de CANAL no encontradas en df2: 199\n",
      "Filas de df2 no encontradas en CANAL: 55\n",
      "\n",
      "Archivo CONCATENADO guardado como ./listos/furey.xlsx\n",
      "\n",
      "Se encontraron 93 productos con un aumento excesivo:\n",
      "  - APOSITO POST PARTO DONCELLA x 10u (SKU: Furey903) aumentó un 26.00%.\n",
      "  - NONISEC PAÑAL ADULTO EXTRA GRANDE x 10u (SKU: Furey4830) aumentó un 26.00%.\n",
      "  - NONISEC ZALEA GRANDE x 10 unid. (SKU: Furey4321) aumentó un 26.00%.\n",
      "  - NONISEC PAÑAL ADULTO GRANDE x 10u (SKU: Furey4788) aumentó un 26.00%.\n",
      "  - BABYLOOK TOALLITAS HUMEDAS MANZANILLA x 70 u (SKU: Furey5823) aumentó un 26.00%.\n",
      "  - BABYLOOK TOALLITAS HUMEDAS ALOE VERA x 70 u (SKU: Furey5824) aumentó un 26.00%.\n",
      "  - NONISEC PAÑAL ADULTO ULTRA EXTRA GRANDE x 8 unid. (SKU: Furey4318) aumentó un 26.00%.\n",
      "  - PROTECTORES MAMARIOS DONCELLA CON GEL x 24 u (SKU: Furey907) aumentó un 26.00%.\n",
      "  - DISCO DE ALGODON DESMAQUILLANTE DONCELLA x 80 u. (SKU: Furey2847) aumentó un 26.00%.\n",
      "  - NONISEC PAÑAL ADULTO ULTRA GRANDE x 8 unid. (SKU: Furey4317) aumentó un 26.00%.\n",
      "  - NONISEC APOSITOS INCONTINENCIA LEVE x 10 unid. (SKU: Furey4322) aumentó un 26.00%.\n",
      "  - NONISEC APOSITOS INCONTINENCIA MODERADA x 10 unid. (SKU: Furey4323) aumentó un 26.00%.\n",
      "  - OG CEPILLO NEUMATICO DELFIN CHICO (200) (SKU: Furey5830) aumentó un 25.00%.\n",
      "  - OG CEPILLO NEUMATICO CHICO (431) (SKU: Furey5878) aumentó un 24.00%.\n",
      "  - DISWALD CEPILLO NEUMATICO PALETA (404) (SKU: Furey5810) aumentó un 24.00%.\n",
      "  - CEPILLO NEUMATICO PALETA OGIB 404 (SKU: Furey5810) aumentó un 24.00%.\n",
      "  - BAÑO DE SEDA CON SILICONA GALAPAGOS x 30g (SKU: Furey308) aumentó un 23.00%.\n",
      "  - BAÑO DE KERATINA Y SILICONAS GALAPAGOS x 30g (SKU: Furey1508) aumentó un 23.00%.\n",
      "  - BAÑO DE SEDA CON ALMENDRA GALAPAGOS x 30g (SKU: Furey453) aumentó un 22.00%.\n",
      "  - CLORURO DE MAGNESIO DROGAL 33gr.BOLSAx12 SOBRES (SKU: Furey4989) aumentó un 22.00%.\n",
      "  - TERMOMETRO CHATO EXATHERM DE GALIO SIN MERCURIO (SKU: Furey1517) aumentó un 20.00%.\n",
      "  - CERA CAPILAR ANTI FRIZZ GALAPAGOS x 30 grs (SKU: Furey869) aumentó un 20.00%.\n",
      "  - TERMOMETRO EXATHERM CONTACTO (SKU: Furey4086) aumentó un 20.00%.\n",
      "  - ESTETOSCOPIO SIMPLE CORONET COLORES HS30A1 (SKU: Furey4355) aumentó un 18.00%.\n",
      "  - TENSIOMETRO PALM ESTANDAR CORONET HS201C2 (SKU: Furey4109) aumentó un 18.00%.\n",
      "  - ESTETOSCOPIO DOBLE PROFESIONAL CARDIOLOGICO CORONET HS30K (SKU: Furey4992) aumentó un 18.00%.\n",
      "  - TENSIOMETRO ANEROIDE SIN ESTETOSCOPIO ESTANDAR CON MANGA CORONET XL HS50C (SKU: Furey4218) aumentó un 18.00%.\n",
      "  - ESTETOSCOPIO DOBLE PROFESIONAL PEDIATRICO CORONET HS30H (SKU: Furey4991) aumentó un 18.00%.\n",
      "  - TENSIOMETRO INFANTIL CORONET SIN ESTETOSCOPIO HS20C (SKU: Furey4144) aumentó un 18.00%.\n",
      "  - ESTETOSCOPIO DOBLE PROFESIONAL ADULTO CORONET HS30J (SKU: Furey4990) aumentó un 18.00%.\n",
      "  - SHOCK NUTRITIVO CAPILAR GALAPAGOS x 35cc (SKU: Furey220) aumentó un 17.00%.\n",
      "  - PROTECTORES DIARIOS DONCELLA x 20 u (SKU: Furey384) aumentó un 16.00%.\n",
      "  - TOALLA HIGIENICA DONCELLA POCKET CON ALAS ULTRAFINA x 8 u. (SKU: Furey4012) aumentó un 15.00%.\n",
      "  - CREMA PARA MASAJES LOANDA x 450gr (SKU: Furey400) aumentó un 15.00%.\n",
      "  - BARRO CAPILAR GALAPAGOS x450g (SKU: Furey4246) aumentó un 15.00%.\n",
      "  - BAÑO DE SEDA CON KERATINA GALAPAGOS x450g (SKU: Furey4245) aumentó un 15.00%.\n",
      "  - PROTECTORES DIARIOS TANGA DONCELLA x 20 u (SKU: Furey4315) aumentó un 15.00%.\n",
      "  - PROTECTORES DIARIOS DONCELLA maxi pack x 60 u (SKU: Furey4314) aumentó un 15.00%.\n",
      "  - DEDOS DE GOMA N.3 x 12 UNIDADES (SKU: Furey2184) aumentó un 15.00%.\n",
      "  - DEDOS DE GOMA N.6 x 12 UNIDADES (SKU: Furey2187) aumentó un 15.00%.\n",
      "  - TOALLA HIGIENICA DONCELLA POCKET CON ALAS NORMAL x 8 u. (SKU: Furey317) aumentó un 15.00%.\n",
      "  - TOALLA HIGIENICA DONCELLA POCKET CON ALAS NOCTURNAS x 8 u. (SKU: Furey4313) aumentó un 15.00%.\n",
      "  - GEL MODELADOR CRIOGENICO LOANDA x 250gr. VERDE (SKU: Furey401) aumentó un 14.00%.\n",
      "  - EUDA MAGNESIO QELATO 100mg x 50 cap. (SKU: Furey5886) aumentó un 12.00%.\n",
      "  - ALGODON DONCELLA x 140 gr. (SKU: Furey372) aumentó un 12.00%.\n",
      "  - ALGODON DONCELLA x 70 gr. (SKU: Furey371) aumentó un 12.00%.\n",
      "  - ALGODON DONCELLA x 500 gr. (SKU: Furey374) aumentó un 12.00%.\n",
      "  - ALGODON DONCELLA x 300 gr. (SKU: Furey373) aumentó un 12.00%.\n",
      "  - ESPALDERA ELASTICA FUREY N. 3 (SKU: Furey1214) aumentó un 12.00%.\n",
      "  - ESPALDERA ELASTICA FUREY N. 2 (SKU: Furey1214) aumentó un 12.00%.\n",
      "  - ESPALDERA ELASTICA FUREY N. 0 (SKU: Furey1214) aumentó un 12.00%.\n",
      "  - ESPALDERA ELASTICA FUREY N. 4 (SKU: Furey1214) aumentó un 12.00%.\n",
      "  - ESPALDERA ELASTICA FUREY N. 1 (SKU: Furey1214) aumentó un 12.00%.\n",
      "  - PERFUME GALAPAGOS MUJER HALOWIN (SKU: Furey2031) aumentó un 12.00%.\n",
      "  - PERFUME GALAPAGOS MUJER AMOR (SKU: Furey2024) aumentó un 12.00%.\n",
      "  - PERFUME GALAPAGOS MUJER CCHH (SKU: Furey2027) aumentó un 12.00%.\n",
      "  - PERFUME GALAPAGOS MUJER VERY IRRESISTIBLE (SKU: Furey2028) aumentó un 12.00%.\n",
      "  - PERFUME GALAPAGOS HOMBRE ONE MILLON (SKU: Furey2029) aumentó un 12.00%.\n",
      "  - PERFUME GALAPAGOS MUJER ORGANZA (SKU: Furey2026) aumentó un 12.00%.\n",
      "  - PERFUME GALAPAGOS NENA PRINCESS (SKU: Furey2030) aumentó un 12.00%.\n",
      "  - PERFUME GALAPAGOS MUJER 212 (SKU: Furey2025) aumentó un 12.00%.\n",
      "  - PERFUME GALAPAGOS HOMBRE KENZO (SKU: Furey2687) aumentó un 12.00%.\n",
      "  - PERFUME GALAPAGOS HOMBRE ESCAPE (SKU: Furey399) aumentó un 12.00%.\n",
      "  - PERFUME GALAPAGOS HOMBRE ANTONIO SECRETO (SKU: Furey2032) aumentó un 12.00%.\n",
      "  - PERFUME GALAPAGOS MUJER AQUA DI GIO (SKU: Furey2033) aumentó un 12.00%.\n",
      "  - PERFUME GALAPAGOS HOMBRE POLO BLUE (SKU: Furey2034) aumentó un 12.00%.\n",
      "  - PERFUME GALAPAGOS MUJER EDEN (SKU: Furey2035) aumentó un 12.00%.\n",
      "  - PERFUME GALAPAGOS HOMBRE J PAUL (SKU: Furey2736) aumentó un 12.00%.\n",
      "  - PERFUME GALAPAGOS HOMBRE AQUA DI GIO (SKU: Furey2036) aumentó un 12.00%.\n",
      "  - PERFUME GALAPAGOS UNISEX K ONE (SKU: Furey2037) aumentó un 12.00%.\n",
      "  - PERFUME GALAPAGOS HOMBRE CAROLINE (SKU: Furey2039) aumentó un 12.00%.\n",
      "  - PERFUME GALAPAGOS NENE CHAMPION (SKU: Furey2040) aumentó un 12.00%.\n",
      "  - PERFUME GALAPAGOS MUJER ARMANI COBE (SKU: Furey2041) aumentó un 12.00%.\n",
      "  - PERFUME GALAPAGOS MUJER 5 AVENIDA (SKU: Furey2042) aumentó un 12.00%.\n",
      "  - PERFUME GALAPAGOS MUJER BELLA (SKU: Furey3584) aumentó un 12.00%.\n",
      "  - PERFUME GALAPAGOS MUJER 212V (SKU: Furey2788) aumentó un 12.00%.\n",
      "  - PERFUME GALAPAGOS MUJER CAROLINE (SKU: Furey2023) aumentó un 12.00%.\n",
      "  - PERFUME GALAPAGOS HOMBRE MONTE BLANCO (SKU: Furey2038) aumentó un 12.00%.\n",
      "  - PERFUME GALAPAGOS MUJER CH N.5 (SKU: Furey2021) aumentó un 12.00%.\n",
      "  - PERFUME GALAPAGOS HOMBRE 212 (SKU: Furey2015) aumentó un 12.00%.\n",
      "  - PERFUME GALAPAGOS MUJER ANGEL (SKU: Furey3644) aumentó un 12.00%.\n",
      "  - PERFUME GALAPAGOS HOMBRE D'OR (SKU: Furey3041) aumentó un 12.00%.\n",
      "  - PERFUME GALAPAGOS MUJER FANTASIA BS (SKU: Furey3040) aumentó un 12.00%.\n",
      "  - PERFUME GALAPAGOS MUJER FLOR (SKU: Furey2020) aumentó un 12.00%.\n",
      "  - PERFUME GALAPAGOS HOMBRE FAHREN (SKU: Furey2013) aumentó un 12.00%.\n",
      "  - PERFUME GALAPAGOS HOMBRE UGO (SKU: Furey2012) aumentó un 12.00%.\n",
      "  - PERFUME GALAPAGOS MUJER ANGEL DEMONIO (SKU: Furey2022) aumentó un 12.00%.\n",
      "  - PERFUME GALAPAGOS HOMBRE 212 SEXY (SKU: Furey2016) aumentó un 12.00%.\n",
      "  - PERFUME GALAPAGOS HOMBRE POLO CLASICO (SKU: Furey2018) aumentó un 12.00%.\n",
      "  - PERFUME GALAPAGOS HOMBRE POLO (SKU: Furey2017) aumentó un 12.00%.\n",
      "  - PERFUME GALAPAGOS MUJER 212 SEXY (SKU: Furey2019) aumentó un 12.00%.\n",
      "  - COLCHON ANTIESCARAS DE AIRE CON BOMBA CORONET (SKU: Furey5003) aumentó un 11.00%.\n",
      "  - DERMOGREEN SACHET CANAS OUT! x 8 gr. (SKU: Furey5171) aumentó un 11.00%.\n"
     ]
    }
   ],
   "source": [
    "# FUREY\n",
    "clean_file('./sinProcesar/canal.csv',\n",
    "           './sinProcesar/furey.xlsx',\n",
    "           'Furey')"
   ]
  },
  {
   "cell_type": "code",
   "execution_count": 46,
   "metadata": {},
   "outputs": [
    {
     "name": "stdout",
     "output_type": "stream",
     "text": [
      "Archivo limpio guardado como ./procesados/upalala.xlsx\n",
      "Archivo limpio guardado como ./procesadosCanal/upalala.xlsx\n",
      "\n",
      "En general, los productos aumentaron en un nan%.\n",
      "De los 54 productos, 0 sufrieron un aumento.\n",
      "\n",
      "Total de filas en df_result: 54\n",
      "Filas con similaridad del 100%: 29\n",
      "Filas de CANAL no encontradas en df2: 25\n",
      "Filas de df2 no encontradas en CANAL: 54\n",
      "\n",
      "Archivo CONCATENADO guardado como ./listos/upalala.xlsx\n",
      "\n",
      "No se encontraron aumentos excesivos en los productos.\n"
     ]
    }
   ],
   "source": [
    "# UPALALA\n",
    "clean_file('./sinProcesar/canal.csv',\n",
    "           './sinProcesar/upalala.xlsx',\n",
    "           'Upalala')"
   ]
  },
  {
   "cell_type": "code",
   "execution_count": 40,
   "metadata": {},
   "outputs": [
    {
     "name": "stdout",
     "output_type": "stream",
     "text": [
      "Archivo limpio guardado como ./procesados/teddy.xlsx\n",
      "Imágenes eliminadas del archivo ./procesados/teddy.xlsx\n",
      "Archivo limpio guardado como ./procesadosCanal/teddy.xlsx\n",
      "En general, los productos aumentaron en un nan%.\n",
      "De los 101 productos, 0 sufrieron un aumento.\n",
      "\n",
      "No se encontraron aumentos excesivos en los productos.\n",
      "\n",
      "Total de filas en df_result: 101\n",
      "Filas con similaridad del 100%: 96\n",
      "Filas de CANAL no encontradas en df2: 0\n",
      "Filas de df2 no encontradas en CANAL: 5\n",
      "\n",
      "Archivo CONCATENADO guardado como ./listos/teddy.xlsx\n"
     ]
    }
   ],
   "source": [
    "# TEDDY\n",
    "clean_file('./sinProcesar/canal.csv',\n",
    "           './sinProcesar/teddy.xlsx',\n",
    "           'Teddy')"
   ]
  },
  {
   "cell_type": "code",
   "execution_count": null,
   "metadata": {},
   "outputs": [],
   "source": []
  }
 ],
 "metadata": {
  "kernelspec": {
   "display_name": "base",
   "language": "python",
   "name": "python3"
  },
  "language_info": {
   "codemirror_mode": {
    "name": "ipython",
    "version": 3
   },
   "file_extension": ".py",
   "mimetype": "text/x-python",
   "name": "python",
   "nbconvert_exporter": "python",
   "pygments_lexer": "ipython3",
   "version": "3.9.13"
  },
  "orig_nbformat": 4
 },
 "nbformat": 4,
 "nbformat_minor": 2
}
