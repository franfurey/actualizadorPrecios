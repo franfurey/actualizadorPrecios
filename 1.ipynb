{
 "cells": [
  {
   "cell_type": "code",
   "execution_count": 17,
   "metadata": {},
   "outputs": [],
   "source": [
    "import importlib\n",
    "import funciones\n",
    "importlib.reload(funciones)\n",
    "from funciones import clean_algabo, clean_furey, concat, clean_canal, scrape_drimel\n",
    "\n",
    "def clean_file(canal,filename, company):\n",
    "    if company == \"Algabo\":\n",
    "        clean_algabo(filename)\n",
    "        clean_canal(canal,'algabo',mpn_value=company)\n",
    "        concat('./procesadosCanal/algabo.xlsx','./procesados/algabo.xlsx','./listos/algabo.xlsx')\n",
    "    elif company == \"Furey\":\n",
    "        clean_furey(filename)\n",
    "        clean_canal(canal,'furey',mpn_value=company)\n",
    "        concat('./procesadosCanal/furey.xlsx','./procesados/furey.xlsx','./listos/furey.xlsx')\n",
    "    elif company == 'Drimel':\n",
    "        scrape_drimel(filename)\n",
    "        clean_canal(canal,'drimel',mpn_value=company)\n",
    "        concat('./procesadosCanal/drimel.xlsx','./procesados/drimel.xlsx','./listos/drimel.xlsx')\n",
    "    else:\n",
    "        raise ValueError(\"Company not recognized\")\n"
   ]
  },
  {
   "cell_type": "code",
   "execution_count": 18,
   "metadata": {},
   "outputs": [
    {
     "name": "stdout",
     "output_type": "stream",
     "text": [
      "Archivo guardado con exito\n",
      "Archivo limpio guardado como ./procesadosCanal/drimel.xlsx\n",
      "Archivo CONCATENADO guardado como ./listos/drimel.xlsx\n"
     ]
    }
   ],
   "source": [
    "# DRIMEL\n",
    "clean_file('./sinProcesar/canal.csv',\n",
    "           ['https://drimel.com.ar/?product_cat=bebes', 'https://drimel.com.ar/?product_cat=cuidado-del-bebe'],\n",
    "            'Drimel')"
   ]
  },
  {
   "cell_type": "code",
   "execution_count": null,
   "metadata": {},
   "outputs": [],
   "source": [
    "# ALGABO\n",
    "clean_file('./sinProcesar/canal.csv',\n",
    "           './sinProcesar/algabo.xlsx',\n",
    "           'Algabo')"
   ]
  },
  {
   "cell_type": "code",
   "execution_count": null,
   "metadata": {},
   "outputs": [],
   "source": [
    "# FUREY\n",
    "clean_file('./sinProcesar/canal.csv',\n",
    "           './sinProcesar/furey.xlsx',\n",
    "           'Furey')"
   ]
  }
 ],
 "metadata": {
  "kernelspec": {
   "display_name": "base",
   "language": "python",
   "name": "python3"
  },
  "language_info": {
   "codemirror_mode": {
    "name": "ipython",
    "version": 3
   },
   "file_extension": ".py",
   "mimetype": "text/x-python",
   "name": "python",
   "nbconvert_exporter": "python",
   "pygments_lexer": "ipython3",
   "version": "3.9.13"
  },
  "orig_nbformat": 4
 },
 "nbformat": 4,
 "nbformat_minor": 2
}
