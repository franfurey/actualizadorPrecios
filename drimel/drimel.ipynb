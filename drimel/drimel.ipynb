{
 "cells": [
  {
   "cell_type": "code",
   "execution_count": 9,
   "metadata": {},
   "outputs": [],
   "source": [
    "# DRIMEL https://drimel.com.ar\n",
    "import requests\n",
    "import pandas as pd\n",
    "from bs4 import BeautifulSoup\n",
    "import credentials\n",
    "import re\n",
    "\n",
    "def scrape_drimel(login_url, urls):\n",
    "    session = requests.Session()\n",
    "\n",
    "    payload = {'email': credentials.email_drimel, 'password': credentials.password_drimel}\n",
    "\n",
    "    response = session.post(login_url, data=payload)\n",
    "\n",
    "    if response.status_code == 200:\n",
    "        print('Inicio de sesión exitoso')\n",
    "    else:\n",
    "        print('Inicio de sesión fallido')\n",
    "\n",
    "\n",
    "    marcas = ['Algabo', 'Duffy', 'Huggies','Babysec','Caricia','Estrella','Pampers',\n",
    "              'Candy','Doncella','Deyse','Johnsons','Kimbies','Upa']\n",
    "\n",
    "    df = pd.DataFrame(columns=['name', 'price','marca','product_id', 'product_sku','url_id','MPN (Número de pieza del fabricante)'])        \n",
    "    \n",
    "    \n",
    "    # Buscamos los elementos que contienen la información de los productos\n",
    "    \n",
    "    for extract_url in urls: \n",
    "\n",
    "\n",
    "        page = 1\n",
    "        while True:\n",
    "            url = extract_url + 'page/{}/'.format(page)\n",
    "\n",
    "            response = requests.get(url)\n",
    "            soup = BeautifulSoup(response.content, 'html.parser')\n",
    "\n",
    "            products = soup.find_all('div', class_='box-text box-text-products')\n",
    "        \n",
    "            if not products:\n",
    "                break\n",
    "\n",
    "            # Iteramos sobre los elementos encontrados y extraemos la información deseada\n",
    "            for product in products:\n",
    "                name = product.find('a', class_='woocommerce-LoopProduct-link').text.strip()\n",
    "            \n",
    "                price = product.find('span', class_='woocommerce-Price-amount').text.strip()[1:] # Quitamos el signo $\n",
    "                price = price.replace('\"', '').replace('.', '').split(',')[0] # Quitamos las comillas, la coma y lo que hay después del punto\n",
    "                \n",
    "                \n",
    "                # Buscamos si el nombre del producto contiene alguna de las marcas\n",
    "                marca = ''\n",
    "                for m in marcas:\n",
    "                    if m.lower() in name.lower():\n",
    "                        marca = m\n",
    "                        break\n",
    "                # Obtenemos el código de barras y el código común del producto\n",
    "                add_to_cart_button = product.find('a', class_='add_to_cart_button')\n",
    "                product_id = add_to_cart_button.get('data-product_id', '')\n",
    "                product_sku = add_to_cart_button.get('data-product_sku', '')\n",
    "\n",
    "                url_id = re.sub('[^a-zA-Z0-9]+', '-', name).strip('-')\n",
    "                url_id = url_id.replace(' ', '-')\n",
    "\n",
    "                # Excluimos las filas que tengan como marca 'Algabo' o 'Upa'\n",
    "                df = df[(df['marca'] != 'Algabo') & (df['marca'] != 'Upa')]\n",
    "\n",
    "                MPN = 'Drimel'\n",
    "                df.loc[len(df)] = [name, price, marca, product_id, product_sku, url_id, MPN]\n",
    "            page += 1\n",
    "                # Puedes hacer lo que necesites con la información obtenida, como imprimir o guardar en un archivo\n",
    "    df = df.rename(columns={'name': 'Nombre', 'price': 'Precio',\n",
    "                             'product_id': 'SKU', 'product_sku': 'Código de barras',\n",
    "                               'url_id':'Identificador de URL', 'marca':'Marca'})\n",
    "\n",
    "    df['SKU'] = df['SKU'].astype(int)\n",
    "    df = df.sort_values('SKU', ascending=True)\n",
    "\n",
    "    df.to_csv('../procesados/drimel.csv', index=False)\n",
    "    print('Archivo guardado con exito')\n",
    "    return \n",
    "        \n"
   ]
  },
  {
   "cell_type": "code",
   "execution_count": 10,
   "metadata": {},
   "outputs": [
    {
     "name": "stdout",
     "output_type": "stream",
     "text": [
      "Inicio de sesión exitoso\n",
      "Archivo guardado con exito\n"
     ]
    }
   ],
   "source": [
    "scrape_drimel('https://drimel.com.ar/my-account/' , ['https://drimel.com.ar/categoria/panales/bebes/','https://drimel.com.ar/categoria/cuidado-del-bebe/'])"
   ]
  },
  {
   "cell_type": "code",
   "execution_count": null,
   "metadata": {},
   "outputs": [],
   "source": []
  }
 ],
 "metadata": {
  "kernelspec": {
   "display_name": "base",
   "language": "python",
   "name": "python3"
  },
  "language_info": {
   "codemirror_mode": {
    "name": "ipython",
    "version": 3
   },
   "file_extension": ".py",
   "mimetype": "text/x-python",
   "name": "python",
   "nbconvert_exporter": "python",
   "pygments_lexer": "ipython3",
   "version": "3.9.13"
  },
  "orig_nbformat": 4,
  "vscode": {
   "interpreter": {
    "hash": "cae57366aee67ad5855b41ecef490a2722475cad7c070f5b3438e7db82e43a4a"
   }
  }
 },
 "nbformat": 4,
 "nbformat_minor": 2
}
