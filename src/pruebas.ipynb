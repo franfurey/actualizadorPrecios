{
 "cells": [
  {
   "cell_type": "code",
   "execution_count": 1,
   "metadata": {},
   "outputs": [
    {
     "name": "stderr",
     "output_type": "stream",
     "text": [
      "/Users/franciscofurey/00DataScience/Canal/actualizadorPrecios/venv/lib/python3.9/site-packages/fuzzywuzzy/fuzz.py:11: UserWarning: Using slow pure-python SequenceMatcher. Install python-Levenshtein to remove this warning\n",
      "  warnings.warn('Using slow pure-python SequenceMatcher. Install python-Levenshtein to remove this warning')\n"
     ]
    }
   ],
   "source": [
    "import os\n",
    "import pandas as pd\n",
    "import openpyxl\n",
    "from fuzzywuzzy import fuzz\n",
    "import requests\n",
    "import pandas as pd\n",
    "from bs4 import BeautifulSoup\n",
    "#import credentials\n",
    "import re\n",
    "import openpyxl\n",
    "from openpyxl.utils.dataframe import dataframe_to_rows\n",
    "from openpyxl.utils.dataframe import dataframe_to_rows\n"
   ]
  },
  {
   "cell_type": "code",
   "execution_count": 18,
   "metadata": {},
   "outputs": [],
   "source": [
    "brand_keywords = {\n",
    "    'Estrella':['estrella'],\n",
    "    'Pampers':['pampers'],\n",
    "    'Huggies':['huggies'],\n",
    "    'Babysec':['babysec'],\n",
    "    'Duffy':['duffy'],\n",
    "    'Caricia':['caricia'],\n",
    "    'Kimbies':['kimbies'],\n",
    "    'Sofeet':['sofeet'],\n",
    "    'Bebefantitos':['bebefantitos'],\n",
    "    'Antar':['antar'],\n",
    "    'Alfa 3':['alfa','alfa 3'],\n",
    "    'Darling':['darling'],\n",
    "    'IBC':['ibc'],\n",
    "    'DermoGreen':['dmg','dermogreen'],\n",
    "    'Sally Unicornio': ['sally'],\n",
    "    'Algabo Baby': ['baby'],\n",
    "    'Galapagos':['galapagos','gal'],\n",
    "    'GreenWood': ['greenwood'],\n",
    "    'Ultra Zombies': ['zombies'],\n",
    "    'Algabo Kids': ['kids','kids zero'],\n",
    "    'Algabo Men': ['algabo men'],\n",
    "    'Algabo': ['alg', 'alga', 'algabo'],\n",
    "    'Spiderman': ['spiderman'],\n",
    "    'Avengers': ['avengers'],\n",
    "    'Hello Kitty': ['hello kitty'],\n",
    "    'Star Wars': ['star wars'],\n",
    "    'Minions': ['minions'],\n",
    "    'Princesas': ['frozen'],\n",
    "    'Trolls': ['trolls'],\n",
    "    'Tablada': ['tablada'],\n",
    "    'Chapoteando': ['ch '],\n",
    "    'Furey': ['furey'],\n",
    "    'Coronet': ['coronet'],\n",
    "    'Ibc': ['ibc'],\n",
    "    'Jessamy': ['jmy', 'jessamy'],\n",
    "    'O2+': ['o2+'],\n",
    "    'Drogal': ['drogal'],\n",
    "    'Dexal': ['dexal'],\n",
    "    'Hipoalergic': ['hipo'],\n",
    "    'Trux': ['trux'],\n",
    "    'Genusan':['genusan'],\n",
    "    'Betalatex':['betalatex'],\n",
    "    'Mary Bosques': ['mb ', 'mary bosques'],\n",
    "    'Nonisec': ['nonisec'],\n",
    "    'Yacolor':['ya color', 'yacolor'],\n",
    "    'Repuesto Service': ['rep '],\n",
    "    'Oyonnax':['oyonnax'],\n",
    "    'Bremen': ['bremen'],\n",
    "    'Neojet': ['neojet'],\n",
    "    'Jactans': ['jac ', 'jactans'],\n",
    "    'Disney': ['dis ', 'disney'],\n",
    "    'Mas': ['ms ', 'mas'],\n",
    "    'Pademed': ['pademed'],\n",
    "    'Mac Gregor': ['mac ', 'mac gregor'],\n",
    "    'Porta': ['porta'],\n",
    "    'Silfab': ['silfab'],\n",
    "    'Lenox': ['lx ', 'lenox'],\n",
    "    'Dismar': ['dismar'],\n",
    "    'Vertice': ['vertice'],\n",
    "    'Exatherm': ['exatherm'],\n",
    "    'Otowil': ['oto '],\n",
    "    'Xzn': ['xzn '],\n",
    "    'Doncella': ['don ','doncella'],\n",
    "    'Vais': ['vais']\n",
    "}\n",
    "\n",
    "def assign_brand(proveedor):\n",
    "    path = f'/Users/franciscofurey/00DataScience/Canal/actualizadorPrecios/data/proveedor/{proveedor}/listos/{proveedor}.xlsx'\n",
    "\n",
    "    # Leer el archivo de Excel\n",
    "    df = pd.read_excel(path, usecols=['Identificador de URL', 'canal_Marca', 'df2_Nombre'])\n",
    "\n",
    "    # Eliminar filas con valores nulos en 'df2_Nombre' o 'Identificador de URL'\n",
    "    df = df.dropna(subset=['df2_Nombre', 'Identificador de URL'])\n",
    "\n",
    "    # Contar el número de filas con valores vacíos en 'canal_Marca'\n",
    "    total_empty = df['canal_Marca'].isna().sum()\n",
    "    print('Cantidad de productos sin Marca definida: ', total_empty)\n",
    "\n",
    "    # Asignar marca a cada producto\n",
    "    for i in df.index:\n",
    "        product_name = df.loc[i, 'df2_Nombre'].lower()\n",
    "        for brand, keywords in brand_keywords.items():\n",
    "            for keyword in keywords:\n",
    "                if keyword.lower() in product_name:\n",
    "                    df.loc[i, 'canal_Marca'] = brand\n",
    "                    break\n",
    "\n",
    "    # Guardar el DataFrame resultante en un nuevo archivo de Excel\n",
    "    new_path = f'/Users/franciscofurey/00DataScience/Canal/actualizadorPrecios/data/proveedor/{proveedor}/listos/marca/{proveedor}.xlsx'\n",
    "    \n",
    "    # Crear cualquier directorio necesario\n",
    "    os.makedirs(os.path.dirname(new_path), exist_ok=True)\n",
    "\n",
    "    df.to_excel(new_path, index=False)\n",
    "\n",
    "    return None"
   ]
  },
  {
   "cell_type": "code",
   "execution_count": 21,
   "metadata": {},
   "outputs": [
    {
     "name": "stdout",
     "output_type": "stream",
     "text": [
      "Cantidad de productos sin Marca definida:  1\n"
     ]
    }
   ],
   "source": [
    "assign_brand('algabo')"
   ]
  },
  {
   "cell_type": "code",
   "execution_count": null,
   "metadata": {},
   "outputs": [],
   "source": []
  },
  {
   "cell_type": "code",
   "execution_count": null,
   "metadata": {},
   "outputs": [],
   "source": []
  },
  {
   "cell_type": "code",
   "execution_count": 6,
   "metadata": {},
   "outputs": [],
   "source": [
    "def auto_adjust_columns(worksheet):\n",
    "    for column_cells in worksheet.columns:\n",
    "        length = max(len(str(cell.value)) for cell in column_cells)\n",
    "        column_name = column_cells[0].column_letter\n",
    "        worksheet.column_dimensions[column_name].width = length + 2  # +2 para agregar un pequeño margen\n",
    "\n",
    "\n",
    "def has_12_or_13_digits(x):\n",
    "    if not (isinstance(x, int) or isinstance(x, float)):\n",
    "        return False\n",
    "\n",
    "    try:\n",
    "        return len(str(int(x))) in [12, 13]\n",
    "    except ValueError:\n",
    "        return False\n",
    "\n",
    "\n",
    "def clean_proveedor(filename, new_filename=None):\n",
    "    # Cargar el archivo de Excel\n",
    "    df = pd.read_excel(filename)\n",
    "\n",
    "    # Eliminar filas sin un código asociado\n",
    "    columna = df.iloc[:, 1]\n",
    "    df = df.dropna(subset=[df.columns[1]])\n",
    "\n",
    "    # Calcular el porcentaje de valores nulos en cada columna\n",
    "    null_percentage = df.isnull().mean() * 100\n",
    "\n",
    "    # Encontrar las columnas con más del 90% de valores nulos\n",
    "    cols_to_drop = null_percentage[null_percentage > 90].index\n",
    "\n",
    "    # Eliminar las columnas con más del 90% de valores nulos\n",
    "    df = df.drop(cols_to_drop, axis=1)\n",
    "\n",
    "    # Eliminar las filas que tienen datos en menos de 3 celdas\n",
    "    df = df.dropna(thresh=3)\n",
    "\n",
    "    # Cambiar el nombre de las columnas que tienen al menos el 50% de números con 12 o 13 dígitos a \"Codigo de Barra\"\n",
    "    for col in df.columns:\n",
    "        num_of_rows = len(df[col].dropna())\n",
    "        num_of_rows_with_12_or_13_digits = df[col].apply(has_12_or_13_digits).sum()\n",
    "\n",
    "        if num_of_rows_with_12_or_13_digits / num_of_rows >= 0.5:\n",
    "            df.rename(columns={col: \"Codigo de Barra\"}, inplace=True)\n",
    "\n",
    "    df['Codigo de Barra'] = df['Codigo de Barra'].astype(str)\n",
    "    df['Codigo de Barra'] = df['Codigo de Barra'].str.replace(r'[.+\\-E]', '', regex=True)\n",
    "    df['Codigo de Barra'] = df['Codigo de Barra'].str.zfill(13)\n",
    "\n",
    "    # Cambiar el nombre de las columnas que tienen al menos el 30% de celdas con valores con coma o punto a \"Costo\"\n",
    "    counter = 1\n",
    "    for col in df.columns:\n",
    "        num_of_rows = len(df[col].dropna())\n",
    "        num_of_rows_with_comma_or_point = df[col].astype(str).str.contains('[,.]').sum()\n",
    "\n",
    "        if num_of_rows_with_comma_or_point / num_of_rows >= 0.3:\n",
    "            df.rename(columns={col: f\"Costo_{counter}\"}, inplace=True)\n",
    "            counter += 1\n",
    "\n",
    "\n",
    "\n",
    "\n",
    "    # Eliminar las columnas que tienen al menos el 90% de sus celdas iguales entre ellas\n",
    "    for col in df.columns:\n",
    "        num_of_rows = len(df[col].dropna())\n",
    "        most_frequent_value_count = df[col].value_counts().iloc[0]\n",
    "\n",
    "        if most_frequent_value_count / num_of_rows >= 0.9:\n",
    "            df = df.drop(col, axis=1)\n",
    "\n",
    "    # Cambiar el nombre de la columna que tiene la longitud promedio de caracteres más larga y una mezcla alfanumérica a \"NOMBRE\"\n",
    "    max_avg_length = 0\n",
    "    nombre_col = None\n",
    "\n",
    "    for col in df.columns:\n",
    "        col_values = df[col].dropna().astype(str)\n",
    "        col_avg_length = col_values.str.len().mean()\n",
    "        col_has_alphanumeric_mix = col_values.str.contains(r'[A-Za-z]+.*\\d+|\\d+.*[A-Za-z]+').any()\n",
    "\n",
    "        if col_has_alphanumeric_mix and col_avg_length > max_avg_length:\n",
    "            max_avg_length = col_avg_length\n",
    "            nombre_col = col\n",
    "\n",
    "    if nombre_col is not None:\n",
    "        df.rename(columns={nombre_col: \"Nombre\"}, inplace=True)\n",
    "\n",
    "\n",
    "\n",
    "    # Guardar el archivo de Excel modificado en la carpeta \"procesados\"\n",
    "    processed_dir = \"./procesados\"\n",
    "    os.makedirs(processed_dir, exist_ok=True)  # crea la carpeta si no existe\n",
    "\n",
    "    if new_filename is None:\n",
    "        new_filename = os.path.basename(filename)\n",
    "    else:\n",
    "        _, file_extension = os.path.splitext(filename)\n",
    "        new_filename = new_filename + file_extension\n",
    "\n",
    "    processed_filename = os.path.join(processed_dir, new_filename)\n",
    "    df.to_excel(processed_filename, index=False)\n",
    "\n",
    "    print('Archivo limpio guardado como', processed_filename)\n",
    "\n",
    "    # Eliminar las formas que no son imágenes\n",
    "    wb = openpyxl.load_workbook(processed_filename)\n",
    "    ws = wb.active\n",
    "    auto_adjust_columns(ws)  # Añade esta línea\n",
    "    # Iterar sobre todas las formas en la hoja de cálculo\n",
    "    try:\n",
    "        # Iterar sobre todas las formas en la hoja de cálculo\n",
    "        for shape in ws._shapes:\n",
    "            # Eliminar la forma si no es un gráfico\n",
    "            if not isinstance(shape, openpyxl.drawing.image.Image):\n",
    "                ws.remove_shape(shape)\n",
    "    except AttributeError:\n",
    "        # Si no se puede acceder a _shapes, usar _images en su lugar\n",
    "        for image in ws._images:\n",
    "            # Eliminar la imagen\n",
    "            ws.remove_image(image)\n",
    "\n",
    "    wb.save(processed_filename)\n"
   ]
  },
  {
   "cell_type": "code",
   "execution_count": 7,
   "metadata": {},
   "outputs": [
    {
     "name": "stdout",
     "output_type": "stream",
     "text": [
      "Archivo limpio guardado como ./procesados/Algabo.xlsx\n"
     ]
    }
   ],
   "source": [
    "clean_proveedor('./sinProcesar/algabo.xlsx','Algabo')"
   ]
  },
  {
   "cell_type": "code",
   "execution_count": 8,
   "metadata": {},
   "outputs": [
    {
     "name": "stdout",
     "output_type": "stream",
     "text": [
      "Archivo limpio guardado como ./procesados/Teddy.xlsx\n"
     ]
    }
   ],
   "source": [
    "clean_proveedor('./sinProcesar/teddy.xlsx','Teddy')"
   ]
  },
  {
   "cell_type": "code",
   "execution_count": 9,
   "metadata": {},
   "outputs": [
    {
     "name": "stdout",
     "output_type": "stream",
     "text": [
      "Archivo limpio guardado como ./procesados/Upalala.xlsx\n"
     ]
    }
   ],
   "source": [
    "clean_proveedor('./sinProcesar/upalala.xlsx','Upalala')"
   ]
  },
  {
   "cell_type": "code",
   "execution_count": null,
   "metadata": {},
   "outputs": [],
   "source": []
  }
 ],
 "metadata": {
  "kernelspec": {
   "display_name": "base",
   "language": "python",
   "name": "python3"
  },
  "language_info": {
   "codemirror_mode": {
    "name": "ipython",
    "version": 3
   },
   "file_extension": ".py",
   "mimetype": "text/x-python",
   "name": "python",
   "nbconvert_exporter": "python",
   "pygments_lexer": "ipython3",
   "version": "3.9.5"
  },
  "orig_nbformat": 4
 },
 "nbformat": 4,
 "nbformat_minor": 2
}
