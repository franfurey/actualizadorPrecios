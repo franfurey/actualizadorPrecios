{
 "cells": [
  {
   "cell_type": "code",
   "execution_count": 22,
   "metadata": {},
   "outputs": [],
   "source": [
    "import os\n",
    "import pandas as pd\n",
    "import openpyxl\n",
    "from fuzzywuzzy import fuzz\n",
    "import requests\n",
    "import pandas as pd\n",
    "from bs4 import BeautifulSoup\n",
    "#import credentials\n",
    "import re\n",
    "\n",
    "def clean_furey(filename, new_filename=None):\n",
    "    # Cargar el archivo de Excel\n",
    "    df = pd.read_excel(filename, dtype={'Código de barras': str})\n",
    "    df = df.drop(index=range(6))\n",
    "\n",
    "    df = df.rename(columns={\n",
    "        df.columns[0]: 'SKU',\n",
    "        df.columns[1]: 'Código de barras',\n",
    "        df.columns[2]: 'Nombre',\n",
    "        df.columns[3]: 'Costo'\n",
    "    })\n",
    "    df = df[['SKU', 'Código de barras', 'Nombre', 'Costo']]\n",
    "\n",
    "    # Eliminar filas sin un código asociado\n",
    "    columna = df.iloc[:, 0]\n",
    "    df = df.dropna(subset=[df.columns[1]])\n",
    "    df['Código de barras'] = df['Código de barras'].astype(str)\n",
    "    df['Código de barras'] = df['Código de barras'].str.replace('.', '').str.replace('+', '').str.replace('E', '').str.replace('-', '')\n",
    "    df['Código de barras'] = df['Código de barras'].str.zfill(13)\n",
    "\n",
    "    # Separar la columna SKU en dos columnas\n",
    "    df[\"SKU\"] = df[\"SKU\"].astype(str)\n",
    "    df[[\"num\", \"SKU_letra\"]] = df[\"SKU\"].str.extract(r\"(\\d+)(\\D*)\")\n",
    "\n",
    "    # Convertir la columna SKU_numero a números\n",
    "    df[\"num\"] = pd.to_numeric(df[\"num\"], errors=\"coerce\")\n",
    "\n",
    "    # Ordenar por SKU_numero de forma ascendente\n",
    "    df = df.sort_values(by='num')\n",
    "\n",
    "    # Concatenar SKU_numero y SKU_letra dentro de SKU_numero\n",
    "    df['SKU'] =df['num'].astype(str) + df['SKU_letra']\n",
    "    df = df.drop(columns=['num', 'SKU_letra'])\n",
    "    df['Costo'] = df['Costo'].astype(str)\n",
    "    df['Costo'] = df['Costo'].str.replace(',', '').str.replace('\\..*', '', regex=True)\n",
    "\n",
    "    # DESCUENTOS \n",
    "    df['Costo'] = pd.to_numeric(df['Costo'])\n",
    "    df['Costo'] = df['Costo'].apply(lambda x: round(x*0.83))\n",
    "\n",
    "\n",
    "    # Guardar el archivo de Excel modificado en la carpeta \"procesados\"\n",
    "    processed_dir = \"./procesados\"\n",
    "    os.makedirs(processed_dir, exist_ok=True)  # crea la carpeta si no existe\n",
    "    \n",
    "    if new_filename is None:\n",
    "        new_filename = os.path.basename(filename)\n",
    "    else:\n",
    "        _, file_extension = os.path.splitext(filename)\n",
    "        new_filename = new_filename + file_extension\n",
    "        \n",
    "    processed_filename = os.path.join(processed_dir, new_filename)\n",
    "    df.to_excel(processed_filename, index=False)\n",
    "\n",
    "    print('Archivo limpio guardado como', processed_filename)\n",
    "\n",
    "    # Eliminar las formas que no son imágenes\n",
    "    wb = openpyxl.load_workbook(processed_filename)\n",
    "    ws = wb.active\n",
    "\n",
    "    # Iterar sobre todas las formas en la hoja de cálculo\n",
    "    try:\n",
    "        # Iterar sobre todas las formas en la hoja de cálculo\n",
    "        for shape in ws._shapes:\n",
    "            # Eliminar la forma si no es un gráfico\n",
    "            if not isinstance(shape, openpyxl.drawing.image.Image):\n",
    "                ws.remove_shape(shape)\n",
    "    except AttributeError:\n",
    "        # Si no se puede acceder a _shapes, usar _images en su lugar\n",
    "        for image in ws._images:\n",
    "            # Eliminar la imagen\n",
    "            ws.remove_image(image)\n",
    "\n",
    "    wb.save(processed_filename)"
   ]
  },
  {
   "cell_type": "code",
   "execution_count": 23,
   "metadata": {},
   "outputs": [
    {
     "name": "stderr",
     "output_type": "stream",
     "text": [
      "/var/folders/mb/tcvp4z490sz6dt5nlf1qwh580000gn/T/ipykernel_60762/2951775339.py:28: FutureWarning: The default value of regex will change from True to False in a future version. In addition, single character regular expressions will *not* be treated as literal strings when regex=True.\n",
      "  df['Código de barras'] = df['Código de barras'].str.replace('.', '').str.replace('+', '').str.replace('E', '').str.replace('-', '')\n"
     ]
    },
    {
     "name": "stdout",
     "output_type": "stream",
     "text": [
      "Archivo limpio guardado como ./procesados/furey.xlsx\n"
     ]
    }
   ],
   "source": [
    "clean_furey('./sinProcesar/furey.xlsx','furey')"
   ]
  },
  {
   "cell_type": "code",
   "execution_count": null,
   "metadata": {},
   "outputs": [],
   "source": []
  }
 ],
 "metadata": {
  "kernelspec": {
   "display_name": "base",
   "language": "python",
   "name": "python3"
  },
  "language_info": {
   "codemirror_mode": {
    "name": "ipython",
    "version": 3
   },
   "file_extension": ".py",
   "mimetype": "text/x-python",
   "name": "python",
   "nbconvert_exporter": "python",
   "pygments_lexer": "ipython3",
   "version": "3.9.13"
  },
  "orig_nbformat": 4
 },
 "nbformat": 4,
 "nbformat_minor": 2
}
