{
 "cells": [
  {
   "cell_type": "code",
   "execution_count": 5,
   "metadata": {},
   "outputs": [],
   "source": [
    "import os\n",
    "import pandas as pd\n",
    "import openpyxl\n",
    "from fuzzywuzzy import fuzz\n",
    "import requests\n",
    "import pandas as pd\n",
    "from bs4 import BeautifulSoup\n",
    "#import credentials\n",
    "import re\n",
    "\n",
    "def concat(archivo1, archivo2, archivo_resultado):\n",
    "    # Cargar los dos archivos de Excel\n",
    "    df1 = pd.read_excel(archivo1)\n",
    "    df2 = pd.read_excel(archivo2)\n",
    "\n",
    "    # Convertir la columna 'Código de barras' a tipo string en ambos DataFrames\n",
    "    df1['Código de barras'] = df1['Código de barras'].astype(str)\n",
    "    df2['Código de barras'] = df2['Código de barras'].astype(str)\n",
    "\n",
    "    # Crear un DataFrame vacío para almacenar los resultados\n",
    "    df_result = pd.DataFrame(columns=['Identificador de URL', 'canal_Nombre', 'Precio', 'canal_SKU', 'canal_Código de barras',\n",
    "                                      'df2_SKU', 'df2_Nombre', 'df2_Código de barras', 'Costo', 'similarity', 'Marca'])\n",
    "\n",
    "    # Iterar sobre las filas del primer DataFrame (df1)\n",
    "    for i, row1 in df1.iterrows():\n",
    "        canal_Nombre = row1['Nombre']\n",
    "        Precio = row1['Precio']\n",
    "        canal_SKU = row1['SKU']\n",
    "        canal_Codigo = row1['Código de barras']\n",
    "        canal_Identificador = row1['Identificador de URL']\n",
    "        found = False\n",
    "\n",
    "        # Iterar sobre las filas del segundo DataFrame (df2)\n",
    "        for j, row2 in df2.iterrows():\n",
    "            df2_Nombre = row2['Nombre']\n",
    "            Costo = row2['Costo']\n",
    "            df2_SKU = row2['SKU']\n",
    "            df2_Codigo = row2['Código de barras']\n",
    "\n",
    "            # Calcular la similitud entre los SKUs de df1 y df2 usando FuzzyWuzzy\n",
    "            similarity = fuzz.token_set_ratio(canal_Codigo, df2_Codigo)\n",
    "\n",
    "            # Si la similitud es mayor o igual al 99%, agregar la fila al DataFrame de resultados\n",
    "            if similarity >= 99:\n",
    "                df_result.loc[len(df_result)] = [canal_Identificador, canal_Nombre, Precio, canal_SKU, canal_Codigo,\n",
    "                                                  df2_SKU, df2_Nombre, df2_Codigo, Costo, similarity, row2.get(\"Marca\", \"\")]\n",
    "                found = True\n",
    "\n",
    "        # Si no se encontró una coincidencia, agregar una fila con los datos de df1 y campos vacíos para df2\n",
    "        if not found:\n",
    "            df_result.loc[len(df_result)] = [canal_Identificador, canal_Nombre, Precio, canal_SKU, canal_Codigo,\n",
    "                                             None, None, None, None, None, None]\n",
    "\n",
    "    # Iterar sobre las filas del segundo DataFrame (df2) para agregar filas no coincidentes al DataFrame de resultados\n",
    "    for i, row2 in df2.iterrows():\n",
    "        df2_Nombre = row2['Nombre']\n",
    "        Costo = row2['Costo']\n",
    "        df2_SKU = row2['SKU']\n",
    "        df2_Codigo = row2['Código de barras']\n",
    "        found = False\n",
    "\n",
    "        # Verificar si el SKU de df2 ya está en el DataFrame de resultados\n",
    "        for j, row_result in df_result.iterrows():\n",
    "            if row_result['df2_SKU'] == df2_SKU:\n",
    "                found = True\n",
    "                break\n",
    "\n",
    "        # Si no se encontró una coincidencia, agregar una fila con los datos de df2 y campos vacíos para df1\n",
    "        if not found:\n",
    "            df_result.loc[len(df_result)] = [None, None, None, None, None, \n",
    "                                             df2_SKU, df2_Nombre, df2_Codigo, Costo, None, row2.get(\"Marca\", \"\")]\n",
    "\n",
    "    df_result = df_result[['Identificador de URL', 'canal_Nombre', 'Precio', 'Marca', 'canal_SKU', 'canal_Código de barras',\n",
    "                           'df2_SKU', 'df2_Nombre', 'df2_Código de barras', 'Costo', 'similarity']]\n",
    "    df_result.to_excel(archivo_resultado, index=False)\n",
    "    print(\"Archivo CONCATENADO guardado como\",archivo_resultado)"
   ]
  },
  {
   "cell_type": "code",
   "execution_count": 4,
   "metadata": {},
   "outputs": [
    {
     "name": "stdout",
     "output_type": "stream",
     "text": [
      "Archivo CONCATENADO guardado como ./listos/furey.xlsx\n"
     ]
    }
   ],
   "source": [
    "# FUREY\n",
    "concat('./procesadosCanal/furey.xlsx','./procesados/furey.xlsx','./listos/furey.xlsx')"
   ]
  },
  {
   "cell_type": "code",
   "execution_count": 6,
   "metadata": {},
   "outputs": [
    {
     "name": "stdout",
     "output_type": "stream",
     "text": [
      "Archivo CONCATENADO guardado como ./listos/drimel.xlsx\n"
     ]
    }
   ],
   "source": [
    "# DRIMEL\n",
    "concat('./procesadosCanal/drimel.xlsx','./procesados/drimel.xlsx','./listos/drimel.xlsx')"
   ]
  },
  {
   "cell_type": "code",
   "execution_count": null,
   "metadata": {},
   "outputs": [],
   "source": []
  }
 ],
 "metadata": {
  "kernelspec": {
   "display_name": "base",
   "language": "python",
   "name": "python3"
  },
  "language_info": {
   "codemirror_mode": {
    "name": "ipython",
    "version": 3
   },
   "file_extension": ".py",
   "mimetype": "text/x-python",
   "name": "python",
   "nbconvert_exporter": "python",
   "pygments_lexer": "ipython3",
   "version": "3.9.13"
  },
  "orig_nbformat": 4
 },
 "nbformat": 4,
 "nbformat_minor": 2
}
