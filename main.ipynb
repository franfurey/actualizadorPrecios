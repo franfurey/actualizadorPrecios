{
 "cells": [
  {
   "cell_type": "code",
   "execution_count": 13,
   "metadata": {},
   "outputs": [],
   "source": [
    "import src.data_saving as data_saving\n",
    "import importlib\n",
    "import src.funciones as funciones\n",
    "import concat\n",
    "import src.data_processing as data_processing\n",
    "import src.analysis as analysis\n",
    "importlib.reload(funciones)\n",
    "importlib.reload(analysis)\n",
    "importlib.reload(concat)\n",
    "importlib.reload(data_saving)\n",
    "importlib.reload(data_processing)\n",
    "from concat import concat\n",
    "from src.funciones import clean_algabo, clean_furey, clean_canal, scrape_drimel, clean_upalala, clean_teddy\n",
    "\n",
    "def clean_file(canal,filename, company):\n",
    "    if company == \"Algabo\":\n",
    "        clean_algabo(filename)\n",
    "        clean_canal(canal,'algabo',mpn_value=company)\n",
    "        concat('algabo')\n",
    "    elif company == \"Furey\":\n",
    "        clean_furey(filename)\n",
    "        clean_canal(canal,'furey',mpn_value=company)\n",
    "        concat('furey')\n",
    "    elif company == 'Drimel':\n",
    "        scrape_drimel(filename)\n",
    "        clean_canal(canal,'drimel',mpn_value=company)\n",
    "        concat('drimel')\n",
    "    elif company == 'Upalala':\n",
    "        clean_upalala(filename)\n",
    "        clean_canal(canal,'upalala',mpn_value= company)\n",
    "        concat('upalala')\n",
    "    elif company == 'Teddy':\n",
    "        clean_teddy(filename)\n",
    "        clean_canal(canal, 'teddy', mpn_value = company)\n",
    "        concat('teddy')\n",
    "    else:\n",
    "        raise ValueError(\"Company not recognized\")\n"
   ]
  },
  {
   "cell_type": "code",
   "execution_count": 14,
   "metadata": {},
   "outputs": [
    {
     "name": "stdout",
     "output_type": "stream",
     "text": [
      "Archivo limpio guardado como ./data/procesados/algabo.xlsx\n",
      "Archivo limpio guardado como ./data/procesados/procesadosCanal/algabo.xlsx\n",
      "\n",
      "En general, los productos aumentaron en un 7.15%.\n",
      "De los 319 productos, 269 sufrieron un aumento.\n",
      "\n",
      "Total de filas en df_result: 319\n",
      "Filas con similaridad del 100%: 282\n",
      "Filas de CANAL no encontradas en df2: 17\n",
      "Filas de df2 no encontradas en CANAL: 20\n",
      "\n",
      "Archivo CONCATENADO guardado como ./data/proveedor/algabo/listos/algabo.xlsx\n",
      "\n",
      "Se encontraron 10 productos con un aumento excesivo:\n",
      "  - greenwood sh perro & gato 500 (SKU: Algabo5745001) aumentó un 36.00%.\n",
      "  - sally alcohol gel 2d holder 30 (SKU: Algabo2840879) aumentó un 14.00%.\n",
      "  - vais perf calida prim dp 250 (SKU: Algabo6010459) aumentó un 12.00%.\n",
      "  - vais perf suave brisa dp 250 (SKU: Algabo6010458) aumentó un 12.00%.\n",
      "  - algabo enjuague bucal 500 (SKU: Algabo6068505) aumentó un 11.00%.\n",
      "  - algabo enj bucal s/alcohol 500 (SKU: Algabo6068508) aumentó un 11.00%.\n",
      "  - vais baño ep 900 (SKU: Algabo1010689) aumentó un 11.00%.\n",
      "  - algabo talco soft ep 200 (SKU: Algabo6030185) aumentó un 11.00%.\n",
      "  - DESODORANTE EN POLVO CLÁSICO 200G (SKU: Algabo6030183) aumentó un 11.00%.\n",
      "  - POLVO DESODORANTE PARA PIES REPUESTO 200 G (SKU: Algabo6030172) aumentó un 11.00%.\n",
      "El archivo CSV se ha guardado en: /Users/franciscofurey/00DataScience/Canal/actualizadorPrecios/data/proveedor/algabo/listos/tiendaNube/algabo.csv\n"
     ]
    }
   ],
   "source": [
    "# ALGABO\n",
    "clean_file('./data/sinProcesar/canal.csv',\n",
    "           './data/sinProcesar/algabo.xlsx',\n",
    "           'Algabo')"
   ]
  },
  {
   "cell_type": "code",
   "execution_count": 15,
   "metadata": {},
   "outputs": [
    {
     "name": "stdout",
     "output_type": "stream",
     "text": [
      "Archivo guardado con exito\n",
      "Archivo limpio guardado como ./data/procesados/procesadosCanal/drimel.xlsx\n",
      "\n",
      "En general, los productos aumentaron en un 6.50%.\n",
      "De los 221 productos, 6 sufrieron un aumento.\n",
      "\n",
      "Total de filas en df_result: 221\n",
      "Filas con similaridad del 100%: 151\n",
      "Filas de CANAL no encontradas en df2: 46\n",
      "Filas de df2 no encontradas en CANAL: 24\n",
      "\n",
      "Archivo CONCATENADO guardado como ./data/proveedor/drimel/listos/drimel.xlsx\n",
      "\n",
      "Se encontraron 1 productos con un aumento excesivo:\n",
      "  - ESTRELLA TOALLAS HUMEDAS RELAJANTEx50 (SKU: Drimel7706) aumentó un 11.00%.\n",
      "El archivo CSV se ha guardado en: /Users/franciscofurey/00DataScience/Canal/actualizadorPrecios/data/proveedor/drimel/listos/tiendaNube/drimel.csv\n"
     ]
    }
   ],
   "source": [
    "# DRIMEL\n",
    "clean_file('./data/sinProcesar/canal.csv',\n",
    "           ['https://drimel.com.ar/?product_cat=bebes', 'https://drimel.com.ar/?product_cat=cuidado-del-bebe'],\n",
    "            'Drimel')"
   ]
  },
  {
   "cell_type": "code",
   "execution_count": 16,
   "metadata": {},
   "outputs": [
    {
     "name": "stdout",
     "output_type": "stream",
     "text": [
      "Archivo limpio guardado como ./data/procesados/furey.xlsx\n",
      "Archivo limpio guardado como ./data/procesados/procesadosCanal/furey.xlsx\n",
      "\n",
      "En general, los productos aumentaron en un nan%.\n",
      "De los 2196 productos, 0 sufrieron un aumento.\n",
      "\n",
      "Total de filas en df_result: 2196\n",
      "Filas con similaridad del 100%: 1803\n",
      "Filas de CANAL no encontradas en df2: 264\n",
      "Filas de df2 no encontradas en CANAL: 129\n",
      "\n",
      "Archivo CONCATENADO guardado como ./data/proveedor/furey/listos/furey.xlsx\n",
      "\n",
      "No se encontraron aumentos excesivos en los productos.\n",
      "El archivo CSV se ha guardado en: /Users/franciscofurey/00DataScience/Canal/actualizadorPrecios/data/proveedor/furey/listos/tiendaNube/furey.csv\n"
     ]
    }
   ],
   "source": [
    "# FUREY\n",
    "clean_file('./data/sinProcesar/canal.csv',\n",
    "           './data/sinProcesar/furey.xlsx',\n",
    "           'Furey')"
   ]
  },
  {
   "cell_type": "code",
   "execution_count": 17,
   "metadata": {},
   "outputs": [
    {
     "name": "stdout",
     "output_type": "stream",
     "text": [
      "Archivo limpio guardado como ./data/procesados/upalala.xlsx\n",
      "Archivo limpio guardado como ./data/procesados/procesadosCanal/upalala.xlsx\n",
      "\n",
      "En general, los productos aumentaron en un nan%.\n",
      "De los 53 productos, 0 sufrieron un aumento.\n",
      "\n",
      "Total de filas en df_result: 53\n",
      "Filas con similaridad del 100%: 29\n",
      "Filas de CANAL no encontradas en df2: 23\n",
      "Filas de df2 no encontradas en CANAL: 1\n",
      "\n",
      "Archivo CONCATENADO guardado como ./data/proveedor/upalala/listos/upalala.xlsx\n",
      "\n",
      "No se encontraron aumentos excesivos en los productos.\n",
      "El archivo CSV se ha guardado en: /Users/franciscofurey/00DataScience/Canal/actualizadorPrecios/data/proveedor/upalala/listos/tiendaNube/upalala.csv\n"
     ]
    }
   ],
   "source": [
    "# UPALALA\n",
    "clean_file('./data/sinProcesar/canal.csv',\n",
    "           './data/sinProcesar/upalala.xlsx',\n",
    "           'Upalala')"
   ]
  },
  {
   "cell_type": "code",
   "execution_count": 18,
   "metadata": {},
   "outputs": [
    {
     "name": "stdout",
     "output_type": "stream",
     "text": [
      "Archivo limpio guardado como ./data/procesados/teddy.xlsx\n",
      "Imágenes eliminadas del archivo ./data/procesados/teddy.xlsx\n",
      "Archivo limpio guardado como ./data/procesados/procesadosCanal/teddy.xlsx\n",
      "\n",
      "En general, los productos aumentaron en un 21.33%.\n",
      "De los 101 productos, 3 sufrieron un aumento.\n",
      "\n",
      "Total de filas en df_result: 101\n",
      "Filas con similaridad del 100%: 95\n",
      "Filas de CANAL no encontradas en df2: 0\n",
      "Filas de df2 no encontradas en CANAL: 6\n",
      "\n",
      "Archivo CONCATENADO guardado como ./data/proveedor/teddy/listos/teddy.xlsx\n",
      "\n",
      "Se encontraron 3 productos con un aumento excesivo:\n",
      "  - Teddy - Sonajero platitos (SKU: Teddy259) aumentó un 24.00%.\n",
      "  - Teddy - Sonajero Bolita (SKU: Teddy264) aumentó un 20.00%.\n",
      "  - Teddy - Sonajero bolita - Fluo (SKU: Teddy266) aumentó un 20.00%.\n",
      "El archivo CSV se ha guardado en: /Users/franciscofurey/00DataScience/Canal/actualizadorPrecios/data/proveedor/teddy/listos/tiendaNube/teddy.csv\n"
     ]
    }
   ],
   "source": [
    "# TEDDY\n",
    "clean_file('./data/sinProcesar/canal.csv',\n",
    "           './data/sinProcesar/teddy.xlsx',\n",
    "           'Teddy')"
   ]
  },
  {
   "cell_type": "code",
   "execution_count": null,
   "metadata": {},
   "outputs": [],
   "source": []
  }
 ],
 "metadata": {
  "kernelspec": {
   "display_name": "base",
   "language": "python",
   "name": "python3"
  },
  "language_info": {
   "codemirror_mode": {
    "name": "ipython",
    "version": 3
   },
   "file_extension": ".py",
   "mimetype": "text/x-python",
   "name": "python",
   "nbconvert_exporter": "python",
   "pygments_lexer": "ipython3",
   "version": "3.9.13"
  },
  "orig_nbformat": 4
 },
 "nbformat": 4,
 "nbformat_minor": 2
}
